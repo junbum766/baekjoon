{
  "nbformat": 4,
  "nbformat_minor": 0,
  "metadata": {
    "colab": {
      "name": "10_19백준.ipynb",
      "private_outputs": true,
      "provenance": [],
      "collapsed_sections": [],
      "authorship_tag": "ABX9TyN3CBJHUH2haFkoJOkp/CdD",
      "include_colab_link": true
    },
    "kernelspec": {
      "name": "python3",
      "display_name": "Python 3"
    },
    "language_info": {
      "name": "python"
    }
  },
  "cells": [
    {
      "cell_type": "markdown",
      "metadata": {
        "id": "view-in-github",
        "colab_type": "text"
      },
      "source": [
        "<a href=\"https://colab.research.google.com/github/junbum766/baekjoon/blob/main/2021_10/10_19%EB%B0%B1%EC%A4%80.ipynb\" target=\"_parent\"><img src=\"https://colab.research.google.com/assets/colab-badge.svg\" alt=\"Open In Colab\"/></a>"
      ]
    },
    {
      "cell_type": "code",
      "metadata": {
        "id": "uX8EQNKEZ3fV"
      },
      "source": [
        "# 10773 : 제로\n",
        "\n",
        "k = int(input())\n",
        "num_list = []\n",
        "for _ in range(k) :\n",
        "  num = int(input())\n",
        "  if num == 0:\n",
        "    del num_list[-1]    # 리스트 마지막 숫자 제거\n",
        "  else :\n",
        "    num_list.append(num)\n",
        "\n",
        "print(sum(num_list))"
      ],
      "execution_count": null,
      "outputs": []
    },
    {
      "cell_type": "code",
      "metadata": {
        "id": "QfA7v8wfbvxz"
      },
      "source": [
        "# 1969 : DNA\n",
        "# 잘 나오는 거 같긴 한데 틀렸음\n",
        "\n",
        "n, m = map(int, input().split())\n",
        "dna_list = []\n",
        "\n",
        "for _ in range(n) :\n",
        "  dna = input()\n",
        "  dna_list.append(dna)             # 모든 문자열을 하나의 list에 저장한다.\n",
        "\n",
        "result = ''\n",
        "distance = 0\n",
        "a, c, g, t = 0, 0, 0, 0\n",
        "\n",
        "for i in range(m) :                # 각 문자열의 i 번쩨\n",
        "  for j in range(n) :              # j번째 문자열\n",
        "\n",
        "    if dna_list[j][i] == 'A':      # 각 문자열의 i번째를 꺼내서 \n",
        "      a += 1                       # 그 문자에 해당하는 객체에 1을 더해주고\n",
        "    elif dna_list[j][i] == 'C':\n",
        "      c += 1\n",
        "    elif dna_list[j][i] == 'G':\n",
        "      g += 1\n",
        "    else :\n",
        "      t += 1\n",
        "    \n",
        "  if a >= c and a >= g and a >= t : # 각 문자열의 i번째 문자중 어떤 문자가 가장 많이 나왔는지 비교해서\n",
        "    result += 'A'                   # 가장 많이 나온 문자를 추가해주고\n",
        "    distance = distance + c + g + t # 다르게 나온 문자의 수를 distance에 더해준다. \n",
        "  elif c >= a and c >= g and c >= t :\n",
        "    result += 'C'\n",
        "    distance = distance + a + g + t\n",
        "  elif g >= c and g >= a and a >= t :\n",
        "    result += 'G'\n",
        "    distance = distance + c + a + t   \n",
        "  else :\n",
        "    result += 'T'\n",
        "    distance = distance + c + g + a\n",
        "  \n",
        "  a, c, g, t = 0, 0, 0, 0\n",
        "\n",
        "print(result)\n",
        "print(distance)"
      ],
      "execution_count": null,
      "outputs": []
    },
    {
      "cell_type": "code",
      "metadata": {
        "id": "R6YAs4Tzuu1O"
      },
      "source": [
        "# 1110 : 더하기 사이클\n",
        "\n",
        "n = input()\n",
        "origin_n = n\n",
        "cnt = 0\n",
        "\n",
        "while True :\n",
        "  if int(n) < 10 : # n이 10보다 작으면 각 자리수를 더하지 못하고 그 수가 그대로 결과가 된다.\n",
        "    k = n\n",
        "  else :\n",
        "    k = str(int(n[0]) + int(n[-1])) \n",
        "\n",
        "  n = n[-1] + k[-1]\n",
        "  cnt += 1\n",
        "\n",
        "  if int(origin_n) == int(n):\n",
        "    print(cnt)\n",
        "    break"
      ],
      "execution_count": null,
      "outputs": []
    },
    {
      "cell_type": "code",
      "metadata": {
        "id": "y9qhihrzErUt"
      },
      "source": [
        "# 1485 : 정사각형\n",
        "\n",
        "import math\n",
        "\n",
        "def d(a, b) :   # 각 변의 길이가 같다는 걸 보이기 위해 distance함수를 만듬\n",
        "  return math.sqrt((a[0] - b[0])**2 + (a[1] - b[1])**2)\n",
        "\n",
        "t = int(input())\n",
        "\n",
        "for _ in range(t) :\n",
        "  c = []\n",
        "\n",
        "  for _ in range(4) :\n",
        "    xy = list(map(int, input().split()))\n",
        "    c.append(xy)  # [[1, 1], [1, 2], ...] 이런 형태가 됨\n",
        "\n",
        "  c.sort() # 왜 sort를 해주냐면, sort를 했을 때, 첫번째 좌표는 원점이랑 가장 가까운 점이고,\n",
        "           # 두번째, 세번째 좌표는 그 좌표와 인접한 두 점이게 되기 때문.\n",
        "  if d(c[0], c[1]) == d(c[0], c[2]) == d(c[2], c[3]) == d(c[1], c[3]) and (c[0][0]-c[1][0])*(c[0][0]-c[2][0]) + (c[0][1]-c[1][1])*(c[0][1]-c[2][1]) == 0 :\n",
        "    print(1)\n",
        "  else:\n",
        "    print(0)\n",
        "\n",
        "# 마지막 if문 : 네 변의 길이가 모두 같고, 한 각이 90도(두 벡터의 내적=0)일때, 정사각형이다.\n"
      ],
      "execution_count": null,
      "outputs": []
    },
    {
      "cell_type": "code",
      "metadata": {
        "id": "UGn6ec8d607a"
      },
      "source": [
        "c_list = []\n",
        "for _ in range(4) :\n",
        "  xy = list(map(int,input().split()))\n",
        "  c_list.append(xy)\n",
        "\n",
        "c_list.sort()\n",
        "print(c_list)"
      ],
      "execution_count": null,
      "outputs": []
    }
  ]
}