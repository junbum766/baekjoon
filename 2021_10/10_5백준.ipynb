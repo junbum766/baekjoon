{
  "nbformat": 4,
  "nbformat_minor": 0,
  "metadata": {
    "colab": {
      "name": "10_5백준.ipynb",
      "private_outputs": true,
      "provenance": [],
      "collapsed_sections": [],
      "authorship_tag": "ABX9TyMFqYgOrtDAy6D08nvtp1KT"
    },
    "kernelspec": {
      "name": "python3",
      "display_name": "Python 3"
    },
    "language_info": {
      "name": "python"
    }
  },
  "cells": [
    {
      "cell_type": "code",
      "metadata": {
        "id": "-nVfyqeOpkaz"
      },
      "source": [
        "# 1676 : 팩토리얼 0의 개수\n",
        "# 런타임에러\n",
        "\n",
        "def Fac(x) :\n",
        "  if x == 1:\n",
        "    return 1\n",
        "  else :\n",
        "    return x * Fac(x-1)\n",
        "\n",
        "n = int(input())\n",
        "cnt = 0\n",
        "n_fac = str(Fac(n))[::-1]\n",
        "\n",
        "for s in n_fac:\n",
        "  if s == '0':\n",
        "    cnt += 1\n",
        "  else:\n",
        "    break\n",
        "\n",
        "print(cnt)"
      ],
      "execution_count": null,
      "outputs": []
    },
    {
      "cell_type": "code",
      "metadata": {
        "id": "mp3xNh4StbDw"
      },
      "source": [
        "# 1789 : 수들의 합\n",
        "# 정답\n",
        "\n",
        "s = int(input())\n",
        "sum = 0\n",
        "plus = 1\n",
        "n = 0\n",
        "\n",
        "while sum < s : # 1, 2, 3, ... 을 계속 더하다가 s보다 커지면 스탑\n",
        "  sum += plus\n",
        "  plus += 1\n",
        "  n += 1        # 몇개를 더한 건지 체크\n",
        "\n",
        "#print(sum, n) 무지성으로 이러고 놀아보다가 알아냈다..\n",
        "if sum == s :   # 더한게 s와 같으면 n출력\n",
        "  print(n)\n",
        "else :          # 더한게 s보다 클 때, 지금까지 더한 수중에 하나를 빼면 무조건 s가 됨\n",
        "  print(n-1)"
      ],
      "execution_count": null,
      "outputs": []
    },
    {
      "cell_type": "code",
      "metadata": {
        "id": "Hsiv8MG1tdGM"
      },
      "source": [
        "# 1652 : 누울 자리를 찾아라\n",
        "# 런타임에러\n",
        "\n",
        "import numpy as np\n",
        "\n",
        "n = int(input())\n",
        "arr = np.empty((0,n), int)  # 행의 갯수는 정해지지 않음\n",
        "\n",
        "for i in range(n) :\n",
        "  room = list(input())\n",
        "  arr = np.append(arr, np.array([room]), axis=0)  # 행렬을 채워감\n",
        "\n",
        "cnt = 0\n",
        "row = 0\n",
        "for i in range(n) :\n",
        "  for j in arr[i, ] :  # 행을 하나씩 뽑아서\n",
        "    if j == '.' :      # . 이 나오면\n",
        "      cnt += 1         # count\n",
        "      if cnt >= 2 :    # 누울자리가 생기면\n",
        "        row += 1       # 행 누울자리 +1\n",
        "        break\n",
        "    else :             # 장애물이 나오면\n",
        "      cnt = 0          # count를 0으로 초기화하고 다시 세기 시작\n",
        "\n",
        "arr = arr.T            # transpose 후 col도 똑같이\n",
        "cnt = 0\n",
        "col = 0\n",
        "for i in range(n) :\n",
        "  for j in arr[i, ] :\n",
        "    if j == '.' :\n",
        "      cnt += 1\n",
        "      if cnt >= 2 :\n",
        "        col += 1\n",
        "        cnt = 0\n",
        "        break\n",
        "    else :\n",
        "      cnt = 0\n",
        "\n",
        "print(row, col)"
      ],
      "execution_count": null,
      "outputs": []
    },
    {
      "cell_type": "code",
      "metadata": {
        "id": "zZOK1VpLBg-b"
      },
      "source": [
        "# 12605 : 단어순서 뒤집기\n",
        "\n",
        "n = int(input())\n",
        "w_list = []\n",
        "\n",
        "for i in range(n) :\n",
        "  w = input().split()\n",
        "  w_list.append(w)                      # 단어를 모두 받아서 리스트에 저장\n",
        "\n",
        "for i, w in enumerate(w_list) :         # 리스트 안의 문장과 인덱스 함께 추출\n",
        "  print('Case #', i+1, ':', end = ' ')\n",
        "  for j in range(len(w)) :\n",
        "    print(w[len(w)-j-1], end = ' ')     # 문장안의 단어를 뒤에서부터 출력\n",
        "  print('')"
      ],
      "execution_count": null,
      "outputs": []
    }
  ]
}