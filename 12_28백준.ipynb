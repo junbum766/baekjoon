{
  "nbformat": 4,
  "nbformat_minor": 0,
  "metadata": {
    "colab": {
      "name": "12/28백준.ipynb",
      "private_outputs": true,
      "provenance": [],
      "collapsed_sections": [],
      "authorship_tag": "ABX9TyP+o+q3m62OoYq1gSot/lpS",
      "include_colab_link": true
    },
    "kernelspec": {
      "name": "python3",
      "display_name": "Python 3"
    },
    "language_info": {
      "name": "python"
    }
  },
  "cells": [
    {
      "cell_type": "markdown",
      "metadata": {
        "id": "view-in-github",
        "colab_type": "text"
      },
      "source": [
        "<a href=\"https://colab.research.google.com/github/junbum766/baekjoon/blob/main/12_28%EB%B0%B1%EC%A4%80.ipynb\" target=\"_parent\"><img src=\"https://colab.research.google.com/assets/colab-badge.svg\" alt=\"Open In Colab\"/></a>"
      ]
    },
    {
      "cell_type": "code",
      "execution_count": null,
      "metadata": {
        "id": "A3qwHeH03muR"
      },
      "outputs": [],
      "source": [
        "# 2193 : 이친수\n",
        "# 시간초과\n",
        "\n",
        "n = int(input())\n",
        "cnt = 0\n",
        "\n",
        "for x in range(2**(n-1), 2**n) :  # ex) n=3 : 4 ~ 7 까지의 수를 이진수로 바꿔줬을 때 1로 시작하는 모든 3자리 이진수\n",
        "  x = format(x, 'b')              # 100, 101, 110, 111\n",
        "  dup = False\n",
        "\n",
        "  for i in range(n-1) :\n",
        "    if x[i] == '1' and x[i+1] == '1' :\n",
        "      dup = True\n",
        "      break\n",
        "\n",
        "  if dup == False :\n",
        "    cnt+=1\n",
        "    print(x)\n",
        "      \n",
        "print(cnt)"
      ]
    },
    {
      "cell_type": "code",
      "source": [
        "x = format(4, 'b')\n",
        "y = bin(4)\n",
        "print(y)"
      ],
      "metadata": {
        "id": "5rkhUI0m7KtL"
      },
      "execution_count": null,
      "outputs": []
    },
    {
      "cell_type": "code",
      "source": [
        "# 2012 : 등수매기기\n",
        "\n",
        "n = int(input())\n",
        "e_list = []\n",
        "num_list = []\n",
        "\n",
        "for i in range(n) :\n",
        "  e = int(input())\n",
        "  e_list.append(e)      # 예상 등수 리스트\n",
        "  num_list.append(i+1)  # 1부터 n까지 순서대로 들어있는 리스트\n",
        "\n",
        "e_list = sorted(e_list) # 예상등수를 오름차순으로 정리\n",
        "\n",
        "sum = 0\n",
        "for i in range(n) :\n",
        "  sum += abs(e_list[i]-num_list[i])\n",
        "\n",
        "print(sum)"
      ],
      "metadata": {
        "id": "Mpc2LTp3AVz3"
      },
      "execution_count": null,
      "outputs": []
    },
    {
      "cell_type": "code",
      "source": [
        "# 1655 : 가운데를 말해요\n",
        "# 시간초과\n",
        "\n",
        "n = int(input())\n",
        "num_list = []\n",
        "result = []\n",
        "\n",
        "for i in range(1, n+1) :\n",
        "  num = int(input())\n",
        "  num_list.append(num)\n",
        "  num_list = sorted(num_list)  # 리스트에 넣자마자 오름차순 정렬\n",
        "\n",
        "  if i%2 != 0 :  # 홀수번째면 i//2번째가 가운데가 됨. ex) 5 -> 5//2 = 2 (list에서 2번째면 3번째)\n",
        "    result.append(num_list[i//2])\n",
        "  else :  # 짝수번째면 가운데 두개를 비교. 가운데 두개는 i//2번째와 i//2 - 1 번째.\n",
        "    if num_list[i//2] < num_list[i//2 - 1] :\n",
        "      result.append(num_list[i//2])\n",
        "    else :\n",
        "      result.append(num_list[i//2 - 1])\n",
        "\n",
        "print(\"*****result*****\")  # 한번에 출력\n",
        "for i in range(n) :\n",
        "  print(result[i], end = '\\n')"
      ],
      "metadata": {
        "id": "egh5JoUDvs6Q"
      },
      "execution_count": null,
      "outputs": []
    },
    {
      "cell_type": "code",
      "source": [
        "# 1004 : 어린 왕자\n",
        "# 처음 주어진 두 좌표를 감싼 원이 몇개인지만 구하면 될거같다 -> 두개 모두 한 원안에 있지만 두 원때문에 길이 가로막힌 경우를 고려못하겠다\n",
        "# 틀림\n",
        "\n",
        "t = int(input())\n",
        "\n",
        "for k in range(t) :\n",
        "  x1, y1, x2, y2 = map(int, input().split())  \n",
        "  n_planet = int(input())\n",
        "  cnt = 0\n",
        "\n",
        "  for i in range(n_planet) :\n",
        "    planet_x, planet_y, planet_r = map(int, input().split())\n",
        "    in1 = False\n",
        "    in2 = False\n",
        "\n",
        "    if (planet_x - planet_r < x1 < planet_x + planet_r) and (planet_y - planet_r < y1 < planet_y + planet_r) :\n",
        "      cnt += 1\n",
        "      in1 = True\n",
        "    if (planet_x - planet_r < x2 < planet_x + planet_r) and (planet_y - planet_r < y2 < planet_y + planet_r) :\n",
        "      cnt += 1\n",
        "      in2 = True\n",
        "    #if (in1 == True) and (in2 == True) : # 두 좌표가 모두 한 원안에 있는 경우 원을 지나지 않아도 되므로\n",
        "    #  cnt -= 2                           # 위에서 더한 2를 빼줌\n",
        "\n",
        "  print(k+1, \"번째 Case = \", cnt)  "
      ],
      "metadata": {
        "id": "npH4-4kt4Jqw"
      },
      "execution_count": null,
      "outputs": []
    }
  ]
}