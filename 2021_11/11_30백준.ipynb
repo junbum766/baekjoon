{
  "nbformat": 4,
  "nbformat_minor": 0,
  "metadata": {
    "colab": {
      "name": "11_30백준.ipynb",
      "private_outputs": true,
      "provenance": [],
      "collapsed_sections": [],
      "authorship_tag": "ABX9TyOSQRJEN44HTo2iaV/2IcZn",
      "include_colab_link": true
    },
    "kernelspec": {
      "name": "python3",
      "display_name": "Python 3"
    },
    "language_info": {
      "name": "python"
    }
  },
  "cells": [
    {
      "cell_type": "markdown",
      "metadata": {
        "id": "view-in-github",
        "colab_type": "text"
      },
      "source": [
        "<a href=\"https://colab.research.google.com/github/junbum766/baekjoon/blob/main/2021_11/11_30%EB%B0%B1%EC%A4%80.ipynb\" target=\"_parent\"><img src=\"https://colab.research.google.com/assets/colab-badge.svg\" alt=\"Open In Colab\"/></a>"
      ]
    },
    {
      "cell_type": "code",
      "metadata": {
        "id": "pxkZqkOjqj7i"
      },
      "source": [
        "# 1463 : 1로 만들기\n",
        "# 14 -> 14/2=7, 7-1=6, 6/3=2, 2-1=1 or 14-1=13, 13-1=12, 12/3=4, 4/2=2, 2-1=1\n",
        "# 16 -> 16-1=15, 15/3=5, 5-1=4, 4/2=2, 2-1=1 or 16/2=8, 8/2=4, 4/2=2, 2-1=1\n",
        "# 모르겠다\n",
        "\n",
        "n = int(nput())\n",
        "cnt = 0\n",
        "\n",
        "while (n != 1) :\n",
        "  if "
      ],
      "execution_count": null,
      "outputs": []
    },
    {
      "cell_type": "code",
      "metadata": {
        "id": "14I_6gzW7pCi"
      },
      "source": [
        "# 1735 : 분수 합\n",
        "\n",
        "def f(x, y) :  # 최대공약수 구하는 함수\n",
        "  n = x        # 최대공약수이기 때문에 위에서부터 1씩 빼주면서 체크\n",
        "  while True :\n",
        "    if (x%n == 0) and (y%n == 0) :\n",
        "      return n\n",
        "    n -= 1\n",
        "\n",
        "n1, d1 = map(int, input().split())\n",
        "n2, d2 = map(int, input().split())\n",
        "\n",
        "new_n = n1 * d2 + n2 * d1\n",
        "new_d = d1 * d2\n",
        "\n",
        "f = f(new_d, new_n)\n",
        "\n",
        "new_n = int(new_n / f)  # 분모 분자에서 각각 최대공약수를 나눠줌\n",
        "new_d = int(new_d / f)\n",
        "\n",
        "print(new_n, new_d)"
      ],
      "execution_count": null,
      "outputs": []
    },
    {
      "cell_type": "code",
      "metadata": {
        "id": "Ybgx3bVQ7pFU"
      },
      "source": [
        "# 9693 : 시파르\n",
        "# 시간초과\n",
        "\n",
        "def f(x) :  # 팩토리얼 함수\n",
        "  result = 1\n",
        "  while (x != 1) :\n",
        "    result*=x\n",
        "    x-=1\n",
        "  return result\n",
        "\n",
        "def zero(x) :  # 뒤에 연속된 0이 몇개인지 세주는 함수\n",
        "  x = str(x)\n",
        "  cnt = 0\n",
        "  for i in x[::-1] :\n",
        "    if i == '0' :\n",
        "      cnt += 1\n",
        "    else :\n",
        "      break\n",
        "  return cnt\n",
        "\n",
        "n_list = []\n",
        "while True :\n",
        "  n = int(input())\n",
        "  if n == 0 :\n",
        "    break\n",
        "  fac = f(n)\n",
        "  m = zero(fac)\n",
        "  n_list.append(m)\n",
        "\n",
        "for i in range(len(n_list)) :\n",
        "  print(\"Case #\", i+1, \": \", n_list[i])"
      ],
      "execution_count": null,
      "outputs": []
    },
    {
      "cell_type": "code",
      "metadata": {
        "id": "q7kiJC727pIa"
      },
      "source": [
        "# 15887 : 욱제는 결벽증이야!!\n",
        "# 예시와 출력이 다르지만 괜찮은거 같기도하고..\n",
        "\n",
        "n = int(input())\n",
        "n_list = list(map(int, input().split()))\n",
        "cnt = 0\n",
        "change_list = []\n",
        "\n",
        "for i in range(len(n_list)) :\n",
        "\n",
        "  if i + 1 != n_list[i] :\n",
        "    cnt += 1  # 몇번 바꿨는지 체크\n",
        "    change_list.extend([i + 1, n_list[i]]) # 몇번과 몇번을 바꿨는지 리스트에 추가\n",
        "    k = n_list[i]  # i번째 숫자 k에 저장\n",
        "    n_list[i], n_list[k - 1] = n_list[k - 1], n_list[i] # i번째와 i번째에 있는 숫자번째와 바꿔줌\n",
        "\n",
        "print(cnt)\n",
        "\n",
        "for i in range(len(change_list)) :\n",
        "  if (i + 1) % 2 != 0 :\n",
        "    print(change_list[i], end = ' ')\n",
        "  else :\n",
        "    print(change_list[i], end = '\\n')\n",
        "\n",
        "print(n_list)"
      ],
      "execution_count": null,
      "outputs": []
    }
  ]
}