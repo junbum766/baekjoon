{
  "nbformat": 4,
  "nbformat_minor": 0,
  "metadata": {
    "colab": {
      "name": "11_2백준.ipynb",
      "private_outputs": true,
      "provenance": [],
      "authorship_tag": "ABX9TyNyp9qhhJtV+zlafAYvdT6w",
      "include_colab_link": true
    },
    "kernelspec": {
      "name": "python3",
      "display_name": "Python 3"
    },
    "language_info": {
      "name": "python"
    }
  },
  "cells": [
    {
      "cell_type": "markdown",
      "metadata": {
        "id": "view-in-github",
        "colab_type": "text"
      },
      "source": [
        "<a href=\"https://colab.research.google.com/github/junbum766/baekjoon/blob/main/11_2%EB%B0%B1%EC%A4%80.ipynb\" target=\"_parent\"><img src=\"https://colab.research.google.com/assets/colab-badge.svg\" alt=\"Open In Colab\"/></a>"
      ]
    },
    {
      "cell_type": "code",
      "metadata": {
        "id": "BNp0uT4t_vea"
      },
      "source": [
        "# 2004 : 조합 0의 개수\n",
        "# 시간초과\n",
        "\n",
        "def fac(a):\n",
        "  fac = 1\n",
        "  for i in range(1,a+1):\n",
        "    fac *= i\n",
        "  return fac\n",
        "\n",
        "def comb(n, m):\n",
        "  return int(fac(n)/(fac(m)*fac(n-m)))\n",
        "\n",
        "n, m = map(int, input().split())\n",
        "result = str(comb(n, m))\n",
        "result = result[::-1]\n",
        "cnt = 0\n",
        "for i in result:\n",
        "  if i =='0':\n",
        "    cnt += 1\n",
        "  else :\n",
        "    break\n",
        "\n",
        "print(cnt)"
      ],
      "execution_count": null,
      "outputs": []
    },
    {
      "cell_type": "code",
      "metadata": {
        "id": "rV1yZqrzIJ2v"
      },
      "source": [
        "# 7783 : B-행렬\n",
        "# 중복처리를 못하겠다.\n",
        "# 11111\n",
        "# 10101\n",
        "# 10001\n",
        "# 10001\n",
        "# 11111   -> 7이 나와야 하지만, 이 알고리즘은 9가 나온다.\n",
        "\n",
        "m, n = map(int, input().split())\n",
        "mat = []\n",
        "for i in range(m):\n",
        "  row = list(input())\n",
        "  mat.append(row)\n",
        "\n",
        "s_list = []\n",
        "for i in range(m):\n",
        "  row, col, min_row = 0, 0, m\n",
        "  for j in range(n):\n",
        "    if mat[i][j] == '0':\n",
        "      col += 1\n",
        "      for k in range(i,m):\n",
        "        if mat[k][j] == '0':\n",
        "          row += 1\n",
        "        if mat[k][j] == '1' or k == m-1 :\n",
        "          if min_row > row :\n",
        "            min_row = row\n",
        "          break\n",
        "    if mat[i][j] == '1' or j == n-1 :\n",
        "      s_list.append(col*min_row)\n",
        "      col = 0\n",
        "      row = 0\n",
        "\n",
        "print(s_list)\n",
        "s_list = sorted(s_list, reverse = True)\n",
        "\n",
        "\n",
        "print(s_list[0] + s_list[1])\n",
        "\n"
      ],
      "execution_count": null,
      "outputs": []
    },
    {
      "cell_type": "code",
      "metadata": {
        "id": "pWlgjAVfMnuP"
      },
      "source": [
        "# 2078 : 무한이진트리\n",
        "#        11\n",
        "#    21     12\n",
        "#  31  23   32 13\n",
        "#41 34\n",
        "# 거꾸로 -> 34에서 오른쪽이 크다는건 그 전 단계에서 \n",
        "# 오른쪽으로 왔다는 말이므로 r에 1더해주고 b = b-a\n",
        "\n",
        "a, b = map(int, input().split())\n",
        "l, r = 0, 0\n",
        "\n",
        "while True :\n",
        "  if ((a == 1) and (b == 1)):\n",
        "    break\n",
        "  else :\n",
        "    if a > b :\n",
        "      l += 1\n",
        "      a -= b\n",
        "    else :\n",
        "      r += 1\n",
        "      b -= a\n",
        "\n",
        "print(l, r)"
      ],
      "execution_count": null,
      "outputs": []
    },
    {
      "cell_type": "code",
      "metadata": {
        "id": "nSt-_fINTfX-"
      },
      "source": [
        "# 2811 : 상범이의 우울\n",
        "# 최대 *3 해서 최댓값 찾는게 오바..\n",
        "\n",
        "n = int(input())\n",
        "feel = list(map(int, input().split()))\n",
        "feel_reverse = []\n",
        "for i in range(len(feel)):\n",
        "  feel_reverse.append(feel[len(feel)-i-1])\n",
        "\n",
        "cnt = 0\n",
        "flower = 0\n",
        "for i in range(n) :\n",
        "\n",
        "  if feel_reverse[i] < 0:\n",
        "    cnt += 1\n",
        "\n",
        "  else :\n",
        "\n",
        "    if cnt*2 <= n - (i+1):\n",
        "      k = i + cnt*2\n",
        "\n",
        "    else :\n",
        "      k = n\n",
        "\n",
        "    for j in range(i, k):\n",
        "\n",
        "      if feel_reverse[j] > 0:\n",
        "        flower += 1\n",
        "\n",
        "      else :\n",
        "        flower += 1\n",
        "        break\n",
        "      \n",
        "    cnt = 0\n",
        "\n",
        "print(flower)"
      ],
      "execution_count": null,
      "outputs": []
    },
    {
      "cell_type": "code",
      "metadata": {
        "id": "E8AZAy626efY"
      },
      "source": [
        "# 15788 : 밸런스 스톤\n",
        "\n",
        "n = int(input())\n",
        "map = []\n",
        "for _ in range(n) :\n",
        "  k = list(map(int, input().split()))\n",
        "  map.append(k)\n",
        "\n",
        "cross1, cross2, row, col = 0, 0, 0, 0\n",
        "for i in range(n) :\n",
        "  for j in range(n) :\n",
        "    if map[i][j] == 0 :\n",
        "      r = i\n",
        "      c = j\n",
        "\n",
        "for i in range(n) :\n",
        "  for j in range(n) :\n",
        "    row += map[r][j]\n",
        "    col += map[i][c]    \n",
        "    if i == j :\n",
        "      cross1 += map[i][j]\n",
        "    if m-i-1 == j :\n",
        "      cross2 += map[i][j]\n",
        "\n",
        "if r == c :\n",
        "  if row == col == cross1 :\n",
        "    print(cross2 - row)\n",
        "  else :\n",
        "    print(-1)\n",
        "\n",
        "elif m-r-1 == c :\n",
        "  if row == col == cross2 :\n",
        "    print(cross1 - row)\n",
        "  else :\n",
        "    print(-1)\n",
        "\n",
        "else :\n",
        "  if (row == col) and (cross1 == cross2) :\n",
        "    print(cross1 - row)\n",
        "  else :\n",
        "    print(-1)"
      ],
      "execution_count": null,
      "outputs": []
    }
  ]
}
