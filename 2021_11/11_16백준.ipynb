{
  "nbformat": 4,
  "nbformat_minor": 0,
  "metadata": {
    "colab": {
      "name": "11_16백준.ipynb",
      "private_outputs": true,
      "provenance": [],
      "collapsed_sections": [],
      "authorship_tag": "ABX9TyPZAP+6qEZAzlLlm1cMPLV4",
      "include_colab_link": true
    },
    "kernelspec": {
      "name": "python3",
      "display_name": "Python 3"
    },
    "language_info": {
      "name": "python"
    }
  },
  "cells": [
    {
      "cell_type": "markdown",
      "metadata": {
        "id": "view-in-github",
        "colab_type": "text"
      },
      "source": [
        "<a href=\"https://colab.research.google.com/github/junbum766/baekjoon/blob/main/11_16%EB%B0%B1%EC%A4%80.ipynb\" target=\"_parent\"><img src=\"https://colab.research.google.com/assets/colab-badge.svg\" alt=\"Open In Colab\"/></a>"
      ]
    },
    {
      "cell_type": "code",
      "metadata": {
        "id": "Z5tR0Y-ikYZr"
      },
      "source": [
        "# 8394 : 악수\n",
        "# 못풀었습니다@@@@@\n"
      ],
      "execution_count": null,
      "outputs": []
    },
    {
      "cell_type": "code",
      "metadata": {
        "id": "WeTuU8VJkYen"
      },
      "source": [
        "# 2303 : 숫자 게임\n",
        "# 잘나오는 것 같은데 틀린 이유는?\n",
        "\n",
        "n = int(input())\n",
        "card = []\n",
        "sum1 = '0'\n",
        "\n",
        "for i in range(n) :\n",
        "  p = list(map(int, input().split()))\n",
        "  card.append(p)\n",
        "  \n",
        "  for a in range(len(card[i])-2) :    \n",
        "    for b in range(a+1, len(card[i])-1) :\n",
        "      for c in range(b+1, len(card[i])) :\n",
        "        sum2 = str(card[i][a] + card[i][b] + card[i][c]) # 중복되지 않는 세 카드를 뽑아 더함\n",
        "        if int(sum2[-1]) == int(sum1[-1]) : # 일의 자리가 같을 경우\n",
        "          if int(sum2) >= int(sum1) : # 원래 숫자를 비교해서 클경우\n",
        "            sum1 = sum2               # sum1에 저장\n",
        "        elif int(sum2[-1]) > int(sum1[-1]) : # 일의 자리가 클경우\n",
        "          sum1 = sum2                        # 원래 숫자를 비교할 필요없이 sum1에 저장\n",
        "  card[i] = sum1                             # 해당 리스트의 계산이 끝나면 리스트를 그때까지 가장 컸던 수로 대체\n",
        "\n",
        "cnt = n+1\n",
        "for i in card :   \n",
        "  if sum1 == i :  # 마지막에 제일 컸던 수인 sum1과 리스트 안에 있는 숫자를 비교해서\n",
        "    cnt-=1        # sum1과 같은 숫자가 1개 라는 것은 마지막 번호가 이겼다는 것이고,\n",
        "                  # 2개라는 것은 뒤에서 두번째 번호가 이겼다는 의미.\n",
        "print(card)\n",
        "print(cnt)"
      ],
      "execution_count": null,
      "outputs": []
    },
    {
      "cell_type": "code",
      "metadata": {
        "id": "cgGZZJH2kN2e"
      },
      "source": [
        "# 1158 : 요세푸스 문제\n",
        "# 실패\n",
        "\n",
        "n, k = map(int, input().split())\n",
        "arr = []\n",
        "new_arr = []\n",
        "original_arr = []\n",
        "\n",
        "for i in range(1, n+1) :\n",
        "  arr.append(i)\n",
        "  original_arr.append(i)\n",
        "\n",
        "while (len(arr) != 0) :        # list가 비었으면 그만\n",
        "\n",
        "  for i in range(len(arr)) :   # 먼저 k 전까지의 숫자를 뒤에 추가해준다.\n",
        "    if i < k-1 :               # ex) [1,2,3,4,5,6,7,1,2] (3 전까지)\n",
        "      arr.append(arr[i])\n",
        "\n",
        "  if len(arr) >= k :          # k번째 숫자를 새로운 list에 추가, 기존 list에서 제거\n",
        "    new_arr.append(arr[k-1])  # (list의 갯수가 k보다 작으면 실행x)\n",
        "    del arr[k-1]              # ex) [1,2,4,5,6,7,1,2] (3 제거)\n",
        "\n",
        "  for _ in range(k-1) :       # 뒤에 추가했던 숫자들과 같은 앞에 있는 숫자들 제거\n",
        "    del arr[0]                # ex) [4,5,6,7,1,2] (1, 2 제거)\n",
        "\n",
        "for i in original_arr:        # 위에서 마지막 숫자는 추가하지 못함.\n",
        "  if i not in new_arr :       # ex) 마지막에 [4,4] 이렇게 남으면 3번째 숫자를 추가, 제거할수가 없음\n",
        "    new_arr.append(i)         # 따라서 오리지날 list와 비교해 없는 요소를 마지막으로 추가.\n",
        "\n",
        "print(new_arr)"
      ],
      "execution_count": null,
      "outputs": []
    },
    {
      "cell_type": "code",
      "metadata": {
        "id": "mRAWAQbBefxG"
      },
      "source": [
        "# 15788 : 밸런스 스톤\n",
        "\n",
        "n = int(input())\n",
        "m = []\n",
        "for _ in range(n) :\n",
        "  k = list(map(int, input().split()))\n",
        "  m.append(k)\n",
        "\n",
        "cross1, cross2, row, col = 0, 0, 0, 0\n",
        "\n",
        "for i in range(n) :\n",
        "  for j in range(n) :\n",
        "    if m[i][j] == 0 :\n",
        "      r = i\n",
        "      c = j\n",
        "\n",
        "for i in range(n) :\n",
        "  for j in range(n) :\n",
        "    if i == r :\n",
        "      row += m[i][j]\n",
        "    if j == c :  \n",
        "      col += m[i][j]    \n",
        "    if i == j :\n",
        "      cross1 += m[i][j]\n",
        "    if n-i-1 == j :\n",
        "      cross2 += m[i][j]\n",
        "\n",
        "if r == c :\n",
        "  if row == col == cross1 :\n",
        "    m[r][c] = cross2 - row\n",
        "  else :\n",
        "    print(-1)\n",
        "\n",
        "elif n-r-1 == c :\n",
        "  if row == col == cross2 :\n",
        "    m[r][c] = cross1 - row\n",
        "  else :\n",
        "    print(-1)\n",
        "\n",
        "else :\n",
        "  if (row == col) and (cross1 == cross2) :\n",
        "    m[r][c] = cross1 - row\n",
        "  else :\n",
        "    print(-1)\n",
        "\n",
        "print(m)"
      ],
      "execution_count": null,
      "outputs": []
    },
    {
      "cell_type": "code",
      "metadata": {
        "id": "i8TiTvgotQ5u"
      },
      "source": [
        "n, k = map(int, input().split())\n",
        "\n",
        "removed = []\n",
        "index = k-1\n",
        "n_set = []\n",
        "for i in range(1, n+1):\n",
        "  n_set.append(i)\n",
        "\n",
        "while True:\n",
        "  if len(n_set) > index:\n",
        "    removed.append(n_set.pop(index))\n",
        "    index += k-1\n",
        "  elif len(n_set) <= index:\n",
        "    index %= len(n_set)\n",
        "    removed.append(n_set.pop(index))\n",
        "    index += k-1\n",
        "    break\n",
        "\n",
        "print(\"<\", ', '.join(str(i) for i in removed), \">\", sep = '')"
      ],
      "execution_count": null,
      "outputs": []
    }
  ]
}
