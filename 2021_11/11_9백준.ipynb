{
  "nbformat": 4,
  "nbformat_minor": 0,
  "metadata": {
    "colab": {
      "name": "11_9백준.ipynb",
      "private_outputs": true,
      "provenance": [],
      "collapsed_sections": [],
      "authorship_tag": "ABX9TyNGq4xRzXJCjt/2/7BgWyEv",
      "include_colab_link": true
    },
    "kernelspec": {
      "name": "python3",
      "display_name": "Python 3"
    },
    "language_info": {
      "name": "python"
    }
  },
  "cells": [
    {
      "cell_type": "markdown",
      "metadata": {
        "id": "view-in-github",
        "colab_type": "text"
      },
      "source": [
        "<a href=\"https://colab.research.google.com/github/junbum766/baekjoon/blob/main/11_9%EB%B0%B1%EC%A4%80.ipynb\" target=\"_parent\"><img src=\"https://colab.research.google.com/assets/colab-badge.svg\" alt=\"Open In Colab\"/></a>"
      ]
    },
    {
      "cell_type": "code",
      "metadata": {
        "id": "JA4s5cQuQaHo"
      },
      "source": [
        "# 4096 : 팰린드로미터\n",
        "\n",
        "while True :\n",
        "  n = input()\n",
        "  original_n = n   # n에 계속 1씩 더할거여서 orignal n 을 저장해둠\n",
        "\n",
        "  if n == '0':\n",
        "    break\n",
        "  \n",
        "  while True :\n",
        "    if n == n[::-1]: # 1) 나눈값이 아닌 몫을 사용한 이유\n",
        "      break                                                 # 2) 인덱싱 방법\n",
        "\n",
        "    n = str(int(n) + 1)\n",
        "    num_zero = len(original_n) - len(n)\n",
        "    n = '0' * num_zero + n  # int로 만들었을 때 앞에 있는 0이 사라지므로 앞의 0을 다시 만들어줌\n",
        "  \n",
        "  print(int(n) - int(original_n)) # 처음 n에서 바뀐 n을 빼면 몇키로를 주행했는지 알 수 있다\n",
        "\n",
        "  # 1) 숫자열의 개수가 홀수개일 때도 있기때문(처음엔 홀수일때 짝수일때 경우를 나누려했지만 안그래도 됨)\n",
        "  # 2) 뒤에서부터 -1 + 1 + (len(n)//2) 개의 숫자열을 인덱싱 "
      ],
      "execution_count": null,
      "outputs": []
    },
    {
      "cell_type": "code",
      "metadata": {
        "id": "L4yYCe4xuVss"
      },
      "source": [
        "# 4096 : 팰린드로미터\n",
        "\n",
        "while True :\n",
        "  n = input()\n",
        "  original_n = n   # n에 계속 1씩 더할거여서 orignal n 을 저장해둠\n",
        "\n",
        "  if n == '0':\n",
        "    break\n",
        "  \n",
        "  while True :\n",
        "    if int(n[0:len(n)//2]) == int(n[-1:-(len(n)//2)-1:-1]): # 1) 나눈값이 아닌 몫을 사용한 이유\n",
        "      break                                                 # 2) 인덱싱 방법\n",
        "\n",
        "    n = str(int(n) + 1)\n",
        "    num_zero = len(original_n) - len(n)\n",
        "    n = '0' * num_zero + n  # int로 만들었을 때 앞에 있는 0이 사라지므로 앞의 0을 다시 만들어줌\n",
        "  \n",
        "  print(int(n) - int(original_n)) # 처음 n에서 바뀐 n을 빼면 몇키로를 주행했는지 알 수 있다\n",
        "\n",
        "  # 1) 숫자열의 개수가 홀수개일 때도 있기때문(처음엔 홀수일때 짝수일때 경우를 나누려했지만 안그래도 됨)\n",
        "  # 2) 뒤에서부터 -1 + 1 + (len(n)//2) 개의 숫자열을 인덱싱 "
      ],
      "execution_count": null,
      "outputs": []
    },
    {
      "cell_type": "code",
      "metadata": {
        "id": "2eO77WiIdNDz"
      },
      "source": [
        "n = '123456'\n",
        "print(n[-1:-4:-1]) # 맨 뒤에서부터 3개의 숫자"
      ],
      "execution_count": null,
      "outputs": []
    },
    {
      "cell_type": "code",
      "metadata": {
        "id": "Dy87YKgsuCck"
      },
      "source": [
        "# 1269 : 대칭 차집합\n",
        "# 차집합 : 겹치는 것을 리스트에서 빼주는 방법(remove), 안겹치는 것을 새 리스트에 더해주는 방법(append)\n",
        "# 시간초과\n",
        "\n",
        "n, m = map(int, input().split())\n",
        "a = list(map(int, input().split()))\n",
        "b = list(map(int, input().split()))\n",
        "a_b = []\n",
        "b_a = []\n",
        "\n",
        "for i in range(n) : # a - b 집합\n",
        "  if a[i] not in b:\n",
        "    a_b.append(a[i]) \n",
        "\n",
        "for i in range(m) : # b - a 집합\n",
        "  if b[i] not in a:\n",
        "    b_a.append(b[i])\n",
        "\n",
        "print(len(a_b) + len(b_a))"
      ],
      "execution_count": null,
      "outputs": []
    },
    {
      "cell_type": "code",
      "metadata": {
        "id": "Ci0TtGsvHrK2"
      },
      "source": [
        "# 1269 : 대칭 차집합 답안?\n",
        "# set 함수가 있었다..\n",
        "\n",
        "n, m = map(int, input().split())\n",
        "a = set(map(int, input().split()))\n",
        "b = set(map(int, input().split()))\n",
        "print(len(a-b) + len(b-a))"
      ],
      "execution_count": null,
      "outputs": []
    },
    {
      "cell_type": "code",
      "metadata": {
        "id": "nPWVn5WPxuvw"
      },
      "source": [
        "# 2331 : 반복수열\n",
        "\n",
        "a, p = map(int, input().split())\n",
        "d = [a]\n",
        "\n",
        "while True:\n",
        "  elem = 0\n",
        "  for i in range(len(str(d[-1]))) :  # 각 자리수를 모두 고려해야 되기 때문\n",
        "    elem += int(str(d[-1])[i]) ** p  # 각 자리수에 p승 한 것을 더해줌\n",
        "\n",
        "  if elem not in d:  # 새로운 수가 리스트에 없으면 더해주고\n",
        "    d.append(elem)\n",
        "\n",
        "  else :             # 리스트에 있으면 그 중복수 앞에 있는 원소 갯수를 세어줌\n",
        "    cnt = 0\n",
        "    for i in d:\n",
        "      if i == elem :\n",
        "        break\n",
        "      else :\n",
        "        cnt += 1\n",
        "\n",
        "    break\n",
        "\n",
        "print(cnt)"
      ],
      "execution_count": null,
      "outputs": []
    },
    {
      "cell_type": "code",
      "metadata": {
        "id": "GcCRurSEv-HT"
      },
      "source": [
        "# 23028 : 5학년은 다니기 싫어요\n",
        "# 총 130, 전공 66\n",
        "\n",
        "n, a, b = map(int, input().split())\n",
        "remain_x = 66 - a       # 남은 전공 학점\n",
        "remain_xy = 130 - b     # 남은 전체 학점\n",
        "cnt = 0\n",
        "\n",
        "for _ in range(10):     # 입력은 10학기 모두 해야하므로 range 10까지\n",
        "  x, y = map(int, input().split())\n",
        "\n",
        "  if cnt < 8 - n:       # 남은 학기 동안만 아래 코드를 진행 (남은학기가 끝나면 입력받기만 함) \n",
        "    remain_x -= x * 3   # 전공갯수x3 을 남은 학점에서 빼줌 \n",
        "    \n",
        "    if x + y >= 6:      # 최대 18학점을 들을 수 있으므로 총 과목 갯수가 6개를 넘어가면\n",
        "      remain_xy -= 18   # 그냥 6x3인 18을 빼주고\n",
        "    else :              # 총 과목의 갯수가 6개 이하이면 총과목갯수x3 한 것을 남은 학점에서 빼줌\n",
        "      remain_xy -= (x + y) * 3\n",
        "\n",
        "    cnt += 1\n",
        "\n",
        "if remain_x <= 0 and remain_xy <= 0:  # 과목을 다 이수 했다면\n",
        "  print('Nice')\n",
        "else :\n",
        "  print('Nae ga wae')"
      ],
      "execution_count": null,
      "outputs": []
    }
  ]
}
