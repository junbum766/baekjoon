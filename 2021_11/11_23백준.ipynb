{
  "nbformat": 4,
  "nbformat_minor": 0,
  "metadata": {
    "colab": {
      "name": "11_23백준.ipynb",
      "private_outputs": true,
      "provenance": [],
      "collapsed_sections": [],
      "authorship_tag": "ABX9TyP4DrO7JDK1youvcsvUKfua"
    },
    "kernelspec": {
      "name": "python3",
      "display_name": "Python 3"
    },
    "language_info": {
      "name": "python"
    }
  },
  "cells": [
    {
      "cell_type": "code",
      "metadata": {
        "id": "U9dyQmxLC4lw"
      },
      "source": [
        "# 13305 : 주유소\n",
        "\n",
        "n = int(input())\n",
        "distance = list(map(int, input().split()))\n",
        "price = list(map(int, input().split()))\n",
        "min_price = price[0]\n",
        "cost = 0\n",
        "\n",
        "for i in range(n-1) : \n",
        "  if price[i] <= min_price :\n",
        "    min_price = price[i]\n",
        "\n",
        "  cost += min_price * distance[i]\n",
        "\n",
        "print(cost)"
      ],
      "execution_count": null,
      "outputs": []
    },
    {
      "cell_type": "code",
      "metadata": {
        "id": "y_bsxDbb9vAf"
      },
      "source": [
        "# 6219 : 소수의 자격\n",
        "# 시간초과\n",
        "\n",
        "def p(x) :\n",
        "  prime = True\n",
        "  if x < 2 :\n",
        "    prime = False\n",
        "    return prime\n",
        "  else :\n",
        "    for i in range(2, x) :\n",
        "      if x%i == 0 :\n",
        "        prime = False\n",
        "        break\n",
        "    return prime\n",
        "\n",
        "cnt = 0\n",
        "a, b, d = map(int, input().split())\n",
        "print('소수 :', end = ' ')\n",
        "for i in range(a, b+1) :\n",
        "  if p(i) :\n",
        "    print(i, end = ' ')\n",
        "    if str(d) in str(i) :\n",
        "      cnt += 1\n",
        "\n",
        "print(' ')\n",
        "print(d , '이(가) 포함된 소수의 갯수 : ', cnt)"
      ],
      "execution_count": null,
      "outputs": []
    },
    {
      "cell_type": "code",
      "metadata": {
        "id": "NlbhbQKnPe86"
      },
      "source": [
        "# 1920 : 수 찾기\n",
        "# 시간초과\n",
        "\n",
        "n = int(input())\n",
        "n_list = list(input().split())\n",
        "m = int(input())\n",
        "m_list = list(input().split())\n",
        "\n",
        "for i in range(m) :\n",
        "  if m_list[i] in n_list :\n",
        "    print(1)\n",
        "  else :\n",
        "    print(0)"
      ],
      "execution_count": null,
      "outputs": []
    },
    {
      "cell_type": "code",
      "metadata": {
        "id": "i904x3u2K82B"
      },
      "source": [
        "# 14916 : 거스름돈\n",
        "\n",
        "n = int(input())\n",
        "cnt = 0\n",
        "\n",
        "while True :\n",
        "  if n%5 == 0 :\n",
        "    cnt += n//5\n",
        "    print(cnt)\n",
        "    break\n",
        "  if n == 0 :\n",
        "    print(cnt)\n",
        "    break\n",
        "  if n < 0 :\n",
        "    print(-1)\n",
        "    break\n",
        "  n -= 2\n",
        "  cnt += 1\n"
      ],
      "execution_count": null,
      "outputs": []
    },
    {
      "cell_type": "code",
      "metadata": {
        "id": "mxukJ_JEkLsV"
      },
      "source": [
        "def prime_list(n):\n",
        "    # 에라토스테네스의 체 초기화: n개 요소에 True 설정(소수로 간주)\n",
        "    sieve = [True] * n\n",
        "\n",
        "    # n의 최대 약수가 sqrt(n) 이하이므로 i=sqrt(n)까지 검사\n",
        "    m = int(n ** 0.5)\n",
        "    for i in range(2, m + 1):\n",
        "        if sieve[i] == True:           # i가 소수인 경우\n",
        "            for j in range(i+i, n, i): # i이후 i의 배수들을 False 판정\n",
        "                sieve[j] = False\n",
        "        print(sieve)\n",
        "\n",
        "    # 소수 목록 산출\n",
        "    return [i for i in range(2, n) if sieve[i] == True]\n",
        "\n",
        "prime_list(15)"
      ],
      "execution_count": null,
      "outputs": []
    }
  ]
}