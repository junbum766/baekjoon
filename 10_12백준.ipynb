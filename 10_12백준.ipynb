{
  "nbformat": 4,
  "nbformat_minor": 0,
  "metadata": {
    "colab": {
      "name": "10_12백준.ipynb",
      "private_outputs": true,
      "provenance": [],
      "collapsed_sections": [],
      "authorship_tag": "ABX9TyO+evTDEXf9Jfid7VLxgHtH",
      "include_colab_link": true
    },
    "kernelspec": {
      "name": "python3",
      "display_name": "Python 3"
    },
    "language_info": {
      "name": "python"
    }
  },
  "cells": [
    {
      "cell_type": "markdown",
      "metadata": {
        "id": "view-in-github",
        "colab_type": "text"
      },
      "source": [
        "<a href=\"https://colab.research.google.com/github/junbum766/baekjoon/blob/main/10_12%EB%B0%B1%EC%A4%80.ipynb\" target=\"_parent\"><img src=\"https://colab.research.google.com/assets/colab-badge.svg\" alt=\"Open In Colab\"/></a>"
      ]
    },
    {
      "cell_type": "code",
      "metadata": {
        "id": "PVPuHjlIxi7O"
      },
      "source": [
        "# 10610 : 30\n",
        "# n의 구성 숫자로 가능한 모든 경우의 수를 만든후, 각 수가 30의 배수인지 확인\n",
        "# 메모리 초과!\n",
        "# 경우의 수를 모두 구하는 함수를 만들고 싶었는데 실패해서 이걸 썼다..\n",
        "\n",
        "from itertools import permutations      # 모든 순열을 구해주는 함수\n",
        "\n",
        "n = list(input())\n",
        "\n",
        "n_list = list(permutations(n, len(n)))  # permutations(n, k) : n중에 k개의 원소를 뽑아 나열하는 모든 경우의 수\n",
        "\n",
        "cnt = 0\n",
        "for i in n_list:        # 경우의 수들을 하나씩 뽑아\n",
        "  k = int(''.join(i))\n",
        "  if k%30 == 0:         # 30으로 나뉘어 떨어지는지 확인\n",
        "    print(k)\n",
        "    break\n",
        "  else :\n",
        "    cnt += 1            # 여기서 print(-1)을 하게되면 -1이 매우 많이 나옴\n",
        "\n",
        "if cnt == len(n_list) :\n",
        "  print(-1)"
      ],
      "execution_count": null,
      "outputs": []
    },
    {
      "cell_type": "code",
      "metadata": {
        "id": "pEqn9y5tmxBK"
      },
      "source": [
        "from itertools import permutations      # 모든 순열을 구해주는 함수\n",
        "list(permutations('1234', 4))"
      ],
      "execution_count": null,
      "outputs": []
    },
    {
      "cell_type": "code",
      "metadata": {
        "id": "PZ48DTifJHHi"
      },
      "source": [
        "# 2896 : 무알콜 칵테일\n",
        "# 정답\n",
        "\n",
        "a, b, c = map(int, input().split())\n",
        "i, j, k = map(int, input().split())\n",
        "\n",
        "cock_list = [a/i, b/j, c/k]     # 각 주스로 몇개의 칵테일을 만들 수 있는지 계산하고\n",
        "cock_list.sort()                # 그 값들을 정렬.\n",
        "m = cock_list[0]                # 최소값 이상의 칵테일은 못만든다\n",
        "\n",
        "print(round(a - i*m, 6), round(b - j*m, 6), round(c - k*m, 6)) \n",
        "# m이 가중치가 되어 각 비율에 곱해서 각 주스에 빼주면 남는 주스가 나온다(예를 드는게 편할듯)"
      ],
      "execution_count": null,
      "outputs": []
    },
    {
      "cell_type": "code",
      "metadata": {
        "id": "Xn_hfrWZJ26j"
      },
      "source": [
        "# 8958 : OX퀴즈\n",
        "# 정답\n",
        "\n",
        "n = int(input())\n",
        "sum_list = []\n",
        "\n",
        "for _ in range(n) :\n",
        "  sum = 0                     # 점수 합\n",
        "  score = 0                   # + 되는 점수(1번연속이면 1점, 2번연속이면 2점, ...)\n",
        "  test = input()\n",
        "  for i in range(len(test)) :\n",
        "    if test[i] == 'O':\n",
        "      score += 1\n",
        "      sum += score\n",
        "    else :\n",
        "      score = 0\n",
        "  sum_list.append(sum)       # 여기서 그냥 출력해도 되는데 저장했다사 한번에 출력하기 위함\n",
        "\n",
        "for i in sum_list :\n",
        "  print(i)"
      ],
      "execution_count": null,
      "outputs": []
    },
    {
      "cell_type": "code",
      "metadata": {
        "id": "4x_x6isdxFdZ"
      },
      "source": [
        "# 13699 : 점화식\n",
        "# 재귀함수 이용\n",
        "# 숫자가 커지면 너무 오래걸림(시간초과)\n",
        "\n",
        "def t(n) :\n",
        "  sum = 0\n",
        "  if n == 0:\n",
        "    return 1\n",
        "  else :\n",
        "    for i in range(n) :\n",
        "      sum += t(i)*t(n-i-1)\n",
        "    return sum\n",
        "\n",
        "n = int(input())\n",
        "print(t(n))\n",
        "\n"
      ],
      "execution_count": null,
      "outputs": []
    }
  ]
}