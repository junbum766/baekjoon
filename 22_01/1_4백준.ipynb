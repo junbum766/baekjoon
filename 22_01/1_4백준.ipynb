{
  "nbformat": 4,
  "nbformat_minor": 0,
  "metadata": {
    "colab": {
      "name": "1_4백준.ipynb",
      "private_outputs": true,
      "provenance": [],
      "collapsed_sections": [],
      "authorship_tag": "ABX9TyMPzuQKfnyvQYfOruX8E1Kb",
      "include_colab_link": true
    },
    "kernelspec": {
      "name": "python3",
      "display_name": "Python 3"
    },
    "language_info": {
      "name": "python"
    }
  },
  "cells": [
    {
      "cell_type": "markdown",
      "metadata": {
        "id": "view-in-github",
        "colab_type": "text"
      },
      "source": [
        "<a href=\"https://colab.research.google.com/github/junbum766/baekjoon/blob/main/22_01/1_4%EB%B0%B1%EC%A4%80.ipynb\" target=\"_parent\"><img src=\"https://colab.research.google.com/assets/colab-badge.svg\" alt=\"Open In Colab\"/></a>"
      ]
    },
    {
      "cell_type": "code",
      "execution_count": null,
      "metadata": {
        "id": "NnY0hFzuVWLN"
      },
      "outputs": [],
      "source": [
        "# 2757 : 엑셀\n",
        "\n",
        "def convert(n, base):  # 10진수를 n진수로 바꿔주는 함수 구글 차용\n",
        "    T = \"ABCDEFGHIJKLMNOPQRSTUVWXYZ\"\n",
        "    q, r = divmod(n-1, base)  # divmod : n나누기 base의 몫과 나머지를 출력\n",
        "    if q == 0:                # n-1 이유 : A는 1에 대응하는데, 파이썬은 0부터 세므로..\n",
        "        return T[r]\n",
        "    else:\n",
        "        return convert(q, base) + T[r]\n",
        "\n",
        "while (1) :\n",
        "  x = input()\n",
        "  x = x.replace('R', '')\n",
        "  r, c = map(int, x.split('C'))\n",
        "  if r == 0 and c == 0 :\n",
        "    break\n",
        "  \n",
        "  c = convert(c, 26)\n",
        "\n",
        "  print(str(c) + str(r))"
      ]
    },
    {
      "cell_type": "code",
      "source": [
        "# 1080 : 행렬\n",
        "# 틀림. (예시는 다 돌아감.,)\n",
        "\n",
        "n, m = map(int, input().split())\n",
        "\n",
        "amat = []\n",
        "bmat = []\n",
        "\n",
        "for i in range(n) :\n",
        "  row = input()\n",
        "  row = list(row)\n",
        "  amat.append(row)\n",
        "\n",
        "for i in range(n) :\n",
        "  row = input()\n",
        "  row = list(row)\n",
        "  bmat.append(row)\n",
        "\n",
        "r = 0\n",
        "c = 0\n",
        "cnt = 0\n",
        "\n",
        "while True :\n",
        "  \n",
        "  if n < 3 or m < 3 :  # 실패 경우1) 3x3이하의 사이즈일때\n",
        "    print(-1)\n",
        "    break\n",
        "\n",
        "  if amat[r][c] != bmat[r][c] :  # 위에서부터 아래로 내려가면서 비교. 같으면 다음줄로 넘어감\n",
        "    for i in range(r, 3 + r) :   # 다르면 3x3 영역을 뒤집음\n",
        "      for j in range(c, 3 + c) :\n",
        "        if amat[i][j] == '0' :\n",
        "          amat[i][j] = '1'\n",
        "        else :\n",
        "          amat[i][j] = '0'\n",
        "    cnt += 1  # 뒤집었으므로 counting\n",
        "\n",
        "  r += 1   # 다음 줄\n",
        "\n",
        "  if r+2 == n :  # 더이상 내려갈 수 없다면\n",
        "    c += 1       # 옆으로 한칸 이동해서\n",
        "    r = 0        # 다시 위에서부터 내려옴\n",
        "\n",
        "  if amat == bmat :\n",
        "    print(cnt)\n",
        "    break\n",
        "\n",
        "  if c+2 == m :  # 더이상 옆으로도 이동할 수 없을때 최종적으로 amat과 bmat을 비교\n",
        "    if amat != bmat:  # 실패 경우2) 마지막에 amat과 bmat이 서로 다를때\n",
        "      print(-1)\n",
        "    break"
      ],
      "metadata": {
        "id": "I_Ho0mkFTV7e"
      },
      "execution_count": null,
      "outputs": []
    },
    {
      "cell_type": "code",
      "source": [
        "# 2670 : 연속부분최대곱\n",
        "# 시간초과\n",
        "\n",
        "n = int(input())\n",
        "nlist = []\n",
        "\n",
        "for i in range(n) :\n",
        "  num = float(input())\n",
        "  nlist.append(num)\n",
        "\n",
        "max = 0\n",
        "\n",
        "for i in range(n) :  # 몇개의 연속한 수를 곱하는지 결정\n",
        "  for j in range(n-i) :  # 시작점 결정\n",
        "\n",
        "    mul = 1\n",
        "    for k in nlist[j:j+i+1] :\n",
        "      mul *= k\n",
        "    \n",
        "    if mul >= max :\n",
        "      max = mul\n",
        "      result = nlist[j:i+j+1]\n",
        "    \n",
        "print(round(max,3))\n",
        "print(result)"
      ],
      "metadata": {
        "id": "T9nBcf9jcJFd"
      },
      "execution_count": null,
      "outputs": []
    },
    {
      "cell_type": "code",
      "source": [
        "# 2579 : 계단 오르기\n",
        "# 동적프로그래밍\n",
        "# https://kyoung-jnn.tistory.com/entry/%EB%B0%B1%EC%A4%802579%EB%B2%88%ED%8C%8C%EC%9D%B4%EC%8D%ACPython-%EA%B3%84%EB%8B%A8-%EC%98%A4%EB%A5%B4%EA%B8%B0-DP\n",
        "\n",
        "N = int(input())\n",
        "\n",
        "stair = [0]\n",
        "for _ in range(N):\n",
        "    stair.append(int(input()))\n",
        "\n",
        "if N == 1:\n",
        "    print(stair[1])\n",
        "else:\n",
        "    dp = [0] * (N+1)\n",
        "    dp[1] = stair[1]\n",
        "    dp[2] = stair[1] + stair[2] \n",
        "\n",
        "    for i in range(3, N+1):\n",
        "      dp[i] = max(dp[i-3]+stair[i-1]+stair[i], dp[i-2]+stair[i])  \n",
        "\n",
        "    print(dp[N])"
      ],
      "metadata": {
        "id": "K5XYdp_QwT5V"
      },
      "execution_count": null,
      "outputs": []
    }
  ]
}