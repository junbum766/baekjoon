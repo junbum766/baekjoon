{
  "nbformat": 4,
  "nbformat_minor": 0,
  "metadata": {
    "colab": {
      "name": "9_7백준.ipynb",
      "private_outputs": true,
      "provenance": [],
      "collapsed_sections": [],
      "authorship_tag": "ABX9TyOeGcOLeDgAIrqQBTMjsyZc",
      "include_colab_link": true
    },
    "kernelspec": {
      "name": "python3",
      "display_name": "Python 3"
    },
    "language_info": {
      "name": "python"
    }
  },
  "cells": [
    {
      "cell_type": "markdown",
      "metadata": {
        "id": "view-in-github",
        "colab_type": "text"
      },
      "source": [
        "<a href=\"https://colab.research.google.com/github/junbum766/baekjoon/blob/main/2021_9/9_7%EB%B0%B1%EC%A4%80.ipynb\" target=\"_parent\"><img src=\"https://colab.research.google.com/assets/colab-badge.svg\" alt=\"Open In Colab\"/></a>"
      ]
    },
    {
      "cell_type": "markdown",
      "metadata": {
        "id": "r3uNyQXA3Y6K"
      },
      "source": [
        "8/31"
      ]
    },
    {
      "cell_type": "markdown",
      "metadata": {
        "id": "HIXLK5QAB4dV"
      },
      "source": [
        ""
      ]
    },
    {
      "cell_type": "code",
      "metadata": {
        "id": "GDDC-cZG3PhA"
      },
      "source": [
        "# 1834 : 나머지와 몫이 같은 수\n",
        "# while문\n",
        "# 시간초과\n",
        "\n",
        "n = int(input())\n",
        "a = 1\n",
        "sum = 0\n",
        "\n",
        "while a//n <= n-1 : # n-1 은 주어진 n으로 가능한 최대 나머지. 이것보다 a/n의 몫이 커지면 몫과 나머지가 같아질 수 없음. \n",
        "  if a%n == a//n :  # ex) n=3일때, 가능한 최대 나머지는 3-1인 2이므로, 몫이 3이상은 계산할 필요가 없다.\n",
        "    sum += a\n",
        "  a += 1 \n",
        "\n",
        "print(sum)"
      ],
      "execution_count": null,
      "outputs": []
    },
    {
      "cell_type": "code",
      "metadata": {
        "id": "QSRsR4-Z3PQr"
      },
      "source": [
        "# 1834 : 나머지와 몫이 같은 수\n",
        "# for문\n",
        "# 시간초과\n",
        "\n",
        "n = int(input())\n",
        "sum = 0\n",
        "\n",
        "for i in range(1,n**2) : # i가 n 제곱 보다 크다는 것은 i/a의 몫이 n-1보다 크다는 것. 이러면 i//a = i%a 불가능.\n",
        "  if i//n == i%n :       # ex) n=3 일때, 나머지는 2가 최대인데, i가 3^2이상이면 몫이 3이상이기 때문에 불가능.\n",
        "    sum += i\n",
        "\n",
        "print(sum)"
      ],
      "execution_count": null,
      "outputs": []
    },
    {
      "cell_type": "code",
      "metadata": {
        "id": "raJXjTUx3PJP"
      },
      "source": [
        "# 12755 : 수면장애\n",
        "# 메모리 초과\n",
        "# range가 n+1까지라서 비효율적인 것 같긴하다.(10의자리 수 보다 작을 경우엔 딱 맞지만 10의자리보다 크면 비효율적임)\n",
        "\n",
        "n = int(input())\n",
        "n_list = []\n",
        "sum = ''\n",
        "\n",
        "for i in range(1, n+1) :\n",
        "  n_list.append(str(i)) # 숫자들을 문자열로 바꿔서 리스트에 추가\n",
        "\n",
        "for j in range(len(n_list)) :\n",
        "  sum += n_list[j] # 문자열을 서로 더해주므로 1234~~ 이런식으로 붙게 됨\n",
        "\n",
        "print(sum[n-1]) # 0부터 세므로 -1"
      ],
      "execution_count": null,
      "outputs": []
    },
    {
      "cell_type": "code",
      "metadata": {
        "id": "atMMZARi3O4O"
      },
      "source": [
        "# 1032 : 명령 프롬프트 \n",
        "# 모르겠다 ~~~~~~~~~~~~~~~~~~~~~~\n",
        "# 구글 답안\n",
        "# 나는 각 문자를 비교해서 겹치는 단어를 새로운 객체에 넣어줄 생각만 했는데, 이분은 첫번째 단어를 수정해가면서 진행했다\n",
        "\n",
        "N = int(input())\n",
        "first_word = list(input())\n",
        "             \n",
        "for i in range(N - 1):\n",
        "    other_words = list(input())\n",
        "    for j in range(len(first_word)):\n",
        "        if first_word[j] != other_words[j]:\n",
        "            first_word[j] = '?'\n",
        "\n",
        "print(''.join(first_word)) # join : 리스트에 있는 문자를 ''로 나눠서 출력\n",
        "                           # ex) '_'.join([a, b, c]) = a_b_c"
      ],
      "execution_count": null,
      "outputs": []
    },
    {
      "cell_type": "code",
      "metadata": {
        "id": "dwfQ1dGW3ViJ"
      },
      "source": [
        "# 13458 : 시험 감독\n",
        "# 정답\n",
        "\n",
        "n = int(input())\n",
        "num_class = list(map(int, input().split())) # 셋째줄은 두개로 정해져 있지만, 둘째줄은 정해져 있지 않아서 list로 받음\n",
        "chong, bu = map(int, input().split())\n",
        "num_chong = 0\n",
        "num_bu = 0\n",
        "\n",
        "for i in range(n) :\n",
        "  if num_class[i] >= chong : # 총감독관이 볼 수 있는 인원이 반 인원보다 작은 경우\n",
        "    num_chong += 1\n",
        "    if (num_class[i]-chong)%bu != 0 : # 반 인원에서 총감독관이 볼 수 있는 인원을 뺀뒤 부감독관이 볼 수 있는 인원으로 나눈 나머지가 0이 아니면, 1명의 부감독관이 더 추가되어야 함\n",
        "      num_bu += (num_class[i]-chong)//bu + 1\n",
        "    else : # 맞아 떨어지면 몫만큼만 부감독관이 있으면 됨\n",
        "      num_bu += (num_class[i]-chong)//bu\n",
        "  else : # 총감독관이 볼 수 있는 인원이 반 인원보다 큰 경우 : 부감독관은 없어도 됨\n",
        "    num_chong += 1\n",
        "\n",
        "print(num_chong + num_bu)"
      ],
      "execution_count": null,
      "outputs": []
    },
    {
      "cell_type": "markdown",
      "metadata": {
        "id": "DFdOitk13cOb"
      },
      "source": [
        "9/7"
      ]
    },
    {
      "cell_type": "code",
      "metadata": {
        "id": "_AgWXK2lE6Zw"
      },
      "source": [
        "# 1010 : 다리 놓기\n",
        "# 정답\n",
        "\n",
        "def Fac(a) :\n",
        "  result = 1\n",
        "  for i in range(1,a+1) :\n",
        "    result *= i\n",
        "  return result\n",
        "\n",
        "def Combination(x, y) :\n",
        "  return Fac(x)/(Fac(y)*Fac(x-y))\n",
        "\n",
        "t = int(input('테스트 갯수 입력 : '))\n",
        "for _ in range(t) :\n",
        "  n, m = map(int, input('n, m 입력 : ').split())\n",
        "  if m >= n :\n",
        "    print(int(Combination(m, n)))\n",
        "  else :\n",
        "    print('n이 m보다 작거나 같아야 합니다')"
      ],
      "execution_count": null,
      "outputs": []
    },
    {
      "cell_type": "code",
      "metadata": {
        "id": "Hy66URNGF1YQ"
      },
      "source": [
        "# 2609 : 최대공약수와 최소공배수\n",
        "# 런타임 에러!!\n",
        "\n",
        "a, b = map(int, input().split())\n",
        "\n",
        "# 최대공약수 구하기\n",
        "for i in range(1,a+1) :\n",
        "  for j in range(1,b+1) :\n",
        "    if a/i == b/j : # i가 작은 수부터 시작되기 때문에, 가장 먼저 나온 공약수가 최대 공약수가 됨\n",
        "        print(int(a/i))\n",
        "        break\n",
        "  if a/i == b/j : # 바깥 for문도 탈출하기 위해\n",
        "    break\n",
        "\n",
        "# 최소공배수 구하기\n",
        "# a*b는 반드시 공배수이기 때문에, a의 배수를 구할땐 a*a까지가 아닌, a*b까지 해야함\n",
        "for i in range(1,b+1) :\n",
        "  for j in range(1, a+1) :\n",
        "    if a*i == b*j :\n",
        "      print(a*i)\n",
        "      break\n",
        "  if a*i == b*j :\n",
        "    break  "
      ],
      "execution_count": null,
      "outputs": []
    },
    {
      "cell_type": "code",
      "metadata": {
        "id": "wrPRMgfcF1ax"
      },
      "source": [
        "# 1356 : 유진수\n",
        "# 정답\n",
        "\n",
        "n = input()\n",
        "count = 0\n",
        "\n",
        "for i in range(1,len(n)) :\n",
        "  \n",
        "  multiply_a = 1\n",
        "  multiply_b = 1\n",
        "\n",
        "  a = n[0:i]\n",
        "  #b = n[-1:-len(n)+i-1:-1]\n",
        "  b = n[i:len(n)+1]\n",
        "\n",
        "  for j in range(len(a)) :\n",
        "    multiply_a *= int(a[j])\n",
        "\n",
        "  for k in range(len(b)) :\n",
        "    multiply_b *= int(b[k])\n",
        "\n",
        "  if multiply_a == multiply_b :\n",
        "    print('YES')\n",
        "    break\n",
        "\n",
        "  else :\n",
        "    count += 1             # 모든 경우를 완료할 때까지 yes가 안나오면 no를 출력하기 위해\n",
        "\n",
        "if count == len(n)-1 :\n",
        "  print('NO')"
      ],
      "execution_count": null,
      "outputs": []
    },
    {
      "cell_type": "code",
      "metadata": {
        "id": "ZEdaFs9yVAjS"
      },
      "source": [
        "# 위 문제 슬라이싱 예시\n",
        "n = '1234'\n",
        "print(n[-1:-3:-1])"
      ],
      "execution_count": null,
      "outputs": []
    },
    {
      "cell_type": "code",
      "metadata": {
        "id": "VNrAF6Z6VxcS"
      },
      "source": [
        "# 1259 : 팰린드롬수\n",
        "# 정답\n",
        "\n",
        "while True :\n",
        "  n = input()\n",
        "  if n == '0' :\n",
        "    break\n",
        "  n_reverse = n[::-1]\n",
        "  if n == n_reverse :\n",
        "    print('yes')\n",
        "  else :\n",
        "    print('no')"
      ],
      "execution_count": null,
      "outputs": []
    },
    {
      "cell_type": "code",
      "metadata": {
        "id": "6wYeA-rac5sK"
      },
      "source": [
        ""
      ],
      "execution_count": null,
      "outputs": []
    }
  ]
}