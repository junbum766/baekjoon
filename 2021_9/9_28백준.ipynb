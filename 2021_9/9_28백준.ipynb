{
  "nbformat": 4,
  "nbformat_minor": 0,
  "metadata": {
    "colab": {
      "name": "9_28백준.ipynb",
      "private_outputs": true,
      "provenance": [],
      "collapsed_sections": [],
      "authorship_tag": "ABX9TyMTVcHFz3vUIcoA9cfRWii1"
    },
    "kernelspec": {
      "name": "python3",
      "display_name": "Python 3"
    },
    "language_info": {
      "name": "python"
    }
  },
  "cells": [
    {
      "cell_type": "code",
      "metadata": {
        "id": "RUFQKBuewkbO"
      },
      "source": [
        "# 1673번 : 치킨 쿠폰\n",
        "# 16 3 => 23\n",
        "\n",
        "n, k = map(int, input().split())\n",
        "chicken = n\n",
        "stamp = n\n",
        "\n",
        "while stamp//k > 0 :          # 도장으로 더이상 먹을 수 있을 때까지\n",
        "  chicken += stamp//k\n",
        "  stamp = stamp//k + stamp%k  # 새로 모은 도장 갯수(쿠폰으로 치킨을 먹어서 생긴 도장 + 남은 도장)\n",
        "\n",
        "print(chicken)"
      ],
      "execution_count": null,
      "outputs": []
    },
    {
      "cell_type": "code",
      "metadata": {
        "id": "CZBTaC3R4L-9"
      },
      "source": [
        "# 1094번 : 막대기\n",
        "\n",
        "x = int(input())\n",
        "stick_list = [64]\n",
        "#stick_list = [64, 32, 16, 8, 4, 2, 1, 1] \n",
        "stick_sum = 0\n",
        "cnt = 1\n",
        "\n",
        "while True :\n",
        "  if sum(stick_list) > x :\n",
        "    stick_list.sort()\n",
        "    short = stick_list[0]\n",
        "    del stick_list[0]\n",
        "    if short == 1 :\n",
        "      break\n",
        "    stick_list.extend([short/2, short/2])\n",
        "  if sum(stick_list) - short >= x :\n",
        "    del stick_list[0]\n",
        "  if sum(stick_list) <= x :\n",
        "    break\n",
        "\n",
        "for s in stick_list :\n",
        "  if stick_sum + s < x :\n",
        "    stick_sum += s\n",
        "    cnt += 1\n",
        "  elif stick_sum + s == x :\n",
        "    break\n",
        "\n",
        "print(cnt)"
      ],
      "execution_count": null,
      "outputs": []
    },
    {
      "cell_type": "code",
      "metadata": {
        "id": "zPUk9xmQuCj4"
      },
      "source": [
        "# 2869번 : 달팽이는 올라가고 싶다\n",
        "# Solution 1\n",
        "# 마지막 예제 (100 99 1000000000) 의 경우 시간이 너무 오래걸린다.\n",
        "\n",
        "a, b, v = map(int, input().split())\n",
        "day = 1\n",
        "start = 0\n",
        "\n",
        "while True :\n",
        "  start += a       # 낮에 a만큼 올라감\n",
        "  if start >= v :\n",
        "    print(day)\n",
        "    break\n",
        "  else :\n",
        "    start -= b     # 목표 달성 실패시 밤에는 b만큼 내려감\n",
        "    day += 1"
      ],
      "execution_count": null,
      "outputs": []
    },
    {
      "cell_type": "code",
      "metadata": {
        "id": "G7ln78OlXnyq"
      },
      "source": [
        "# 2869번 : 달팽이는 올라가고 싶다\n",
        "# Solution 2\n",
        "\n",
        "a, b, v = map(int, input().split())\n",
        "\n",
        "if (v-a)%(a-b) == 0:         # 나누어 떨어지면 \n",
        "  print((v-a)//(a-b) + 1)    # 1만 더하고\n",
        "\n",
        "else :                       # 남으면\n",
        "  print((v-a)//(a-b) + 2)    # 2를 더함\n",
        "\n",
        "# (v-a)//(a-b) ? \n",
        "# 하루에 갈 수 있는 높이는 a-b이므로 전체에서 a-b를 나누되, \n",
        "# 마지막 날에는 a-b만큼이 아니라, a만큼올라가기만 하면 끝나기 때문에\n",
        "# 처음에 v-a를 한뒤, 이걸 고려하여 마지막에 1(day)을 더해준다.\n",
        "# else에 2를 더한 이유는 나머지가 있을 경우에 몫에 반영되지 않기때문에."
      ],
      "execution_count": null,
      "outputs": []
    },
    {
      "cell_type": "code",
      "metadata": {
        "id": "Gqcs7DJSzMzT"
      },
      "source": [
        "# 1316번 : 그룹 단어 체커\n",
        "\n",
        "n = int(input())\n",
        "\n",
        "for i in range(n) :\n",
        "  word = input()\n",
        "  s_seq = 1\n",
        "\n",
        "  for j in range(len(word)-1):    # -1 ? j+1번째 단어와 계속 비교를 해야하는데, len(word)까지 가면 j+1은 범위를 벗어난다\n",
        "    s_cnt = word.count(word[j])   # count : j번째 단어의 총 갯수\n",
        "\n",
        "    if word[j] == word[j+1]:      # 연속으로 나타난 경우 \n",
        "      s_seq += 1                  # s_seq(연속으로 나온 스펠링 갯수)에 +1\n",
        "\n",
        "    else:                         # 연속이 끊겼다면\n",
        "      if s_cnt == s_seq :         # 총갯수와 연속갯수와 비교해서 같으면\n",
        "        s_seq = 1                 # 똑같은 과정을 반복하기 위해 s_seq를 처음 값으로 되돌림\n",
        "      else:                       # 다르면\n",
        "        n -= 1                    # 그룹 단어가 아니므로 총 단어에서 -1\n",
        "        break\n",
        "\n",
        "print(n)"
      ],
      "execution_count": null,
      "outputs": []
    }
  ]
}