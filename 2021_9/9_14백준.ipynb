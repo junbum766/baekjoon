{
  "nbformat": 4,
  "nbformat_minor": 0,
  "metadata": {
    "colab": {
      "name": "9_14백준.ipynb",
      "private_outputs": true,
      "provenance": [],
      "collapsed_sections": [],
      "authorship_tag": "ABX9TyOsigaJmIgL33DYZlFVnZq1",
      "include_colab_link": true
    },
    "kernelspec": {
      "name": "python3",
      "display_name": "Python 3"
    },
    "language_info": {
      "name": "python"
    }
  },
  "cells": [
    {
      "cell_type": "markdown",
      "metadata": {
        "id": "view-in-github",
        "colab_type": "text"
      },
      "source": [
        "<a href=\"https://colab.research.google.com/github/junbum766/baekjoon/blob/main/9_14%EB%B0%B1%EC%A4%80.ipynb\" target=\"_parent\"><img src=\"https://colab.research.google.com/assets/colab-badge.svg\" alt=\"Open In Colab\"/></a>"
      ]
    },
    {
      "cell_type": "code",
      "metadata": {
        "id": "p_bFsQ5MQ266"
      },
      "source": [
        "# 17214 : 다항 함수 적분\n",
        "\n",
        "a = input()\n",
        "cnt = 0\n",
        "\n",
        "if '+' in a :\n",
        "  a = a.split('+')\n",
        "  cnt += 1\n",
        "elif '-' in a :\n",
        "  a = a.split('-')\n",
        "  cnt -= 1\n",
        "\n",
        "print(a)\n",
        "\n",
        "if cnt == 1 :\n",
        "  cnt = '+'\n",
        "else :\n",
        "  cnt = '-'\n",
        "\n",
        "print('{0}xx{1}{2}x+W'.format(int(int(a[0][0])/2), cnt, a[1]))"
      ],
      "execution_count": null,
      "outputs": []
    },
    {
      "cell_type": "code",
      "metadata": {
        "id": "fZIPEjQOS9JI"
      },
      "source": [
        "# 17214 : 다항 함수 적분\n",
        "# 차수 제한이 없다면?\n",
        "\n",
        "a = list(input().split('+'))\n",
        "result = []\n",
        "\n",
        "for i in a :\n",
        "  x_num = len(i) - 1\n",
        "  coeff = int(i[0])/(x_num+1)\n",
        "  result.extend([str(coeff),'x'*(x_num+1),'+'])\n",
        "  \n",
        "result.append('W')\n",
        "print(''.join(result))\n",
        "  \n",
        "# 덧셈밖에 처리 못함 ㅋㅋ.."
      ],
      "execution_count": null,
      "outputs": []
    },
    {
      "cell_type": "code",
      "metadata": {
        "id": "utRVeA0Syg3B"
      },
      "source": [
        "# 2204 : 도비의 난독증 테스트\n",
        "# 정답 \n",
        "\n",
        "while True :\n",
        "  n = int(input())\n",
        "  word_list = []\n",
        "  small_word_list = []\n",
        "\n",
        "  if n == 0 :\n",
        "    break\n",
        "\n",
        "  for i in range(n) :\n",
        "    word = input()\n",
        "    word_list.append(word)  # 대소문자 그대로 리스트에 추가\n",
        "\n",
        "    word = word.lower()\n",
        "    small_word_list.append(word)  # 소문자로 바꿔서 다른 리스트에 추가\n",
        "  small_word_list.sort()  # 소문자 리스트를 알파벳 순서대로 정렬\n",
        "\n",
        "  for j in range(len(word_list)) :\n",
        "    if small_word_list[0] == word_list[j].lower() :  # 두 리스트 비교 후 원래 단어 추출\n",
        "      print(word_list[j])"
      ],
      "execution_count": null,
      "outputs": []
    },
    {
      "cell_type": "code",
      "metadata": {
        "id": "R7f8ZVwXF2Hd"
      },
      "source": [
        "# 2503 : 숫자 야구\n",
        "\n",
        "n = int(input())\n",
        "for i in range(n) :\n",
        "  a = input().split()"
      ],
      "execution_count": null,
      "outputs": []
    },
    {
      "cell_type": "code",
      "metadata": {
        "id": "Y7S3TzCPF2Nq"
      },
      "source": [
        "# 9047 : 6174\n",
        "# 시간초과\n",
        "\n",
        "n = int(input())\n",
        "\n",
        "for i in range(n) :\n",
        "  a = input()\n",
        "  cnt = 0\n",
        "\n",
        "  while a != '6174' :\n",
        "\n",
        "    a_max = sorted(a, reverse=True) # 내림차순으로 정리하면 최댓값이 됨\n",
        "    a_max = int(''.join(a_max)) # 정수로 변환\n",
        "\n",
        "    a_min = sorted(a) # 오름차순 정리\n",
        "    a_min = int(''.join(a_min))\n",
        "\n",
        "    a = str(a_max - a_min)\n",
        "    cnt += 1\n",
        "\n",
        "  print(cnt)\n",
        "  "
      ],
      "execution_count": null,
      "outputs": []
    },
    {
      "cell_type": "code",
      "metadata": {
        "id": "Z-i5qGLGPGSx"
      },
      "source": [
        "a = '12456'\n",
        "\n",
        "b = sorted(a, reverse = True)\n",
        "print(b)"
      ],
      "execution_count": null,
      "outputs": []
    },
    {
      "cell_type": "code",
      "metadata": {
        "id": "NxP4s8mtA9Ri"
      },
      "source": [
        "def fac(x) :\n",
        "  if x == 0 :\n",
        "    return 1\n",
        "  else :\n",
        "    return x*fac(x-1)\n",
        "\n",
        "fac(5)"
      ],
      "execution_count": null,
      "outputs": []
    }
  ]
}
