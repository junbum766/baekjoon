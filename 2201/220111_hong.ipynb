{
  "nbformat": 4,
  "nbformat_minor": 0,
  "metadata": {
    "colab": {
      "name": "220111_hong.ipynb",
      "private_outputs": true,
      "provenance": [],
      "collapsed_sections": [],
      "include_colab_link": true
    },
    "kernelspec": {
      "name": "python3",
      "display_name": "Python 3"
    },
    "language_info": {
      "name": "python"
    }
  },
  "cells": [
    {
      "cell_type": "markdown",
      "metadata": {
        "id": "view-in-github",
        "colab_type": "text"
      },
      "source": [
        "<a href=\"https://colab.research.google.com/github/junbum766/baekjoon/blob/main/2201/220111_hong.ipynb\" target=\"_parent\"><img src=\"https://colab.research.google.com/assets/colab-badge.svg\" alt=\"Open In Colab\"/></a>"
      ]
    },
    {
      "cell_type": "code",
      "execution_count": null,
      "metadata": {
        "id": "CrqpY0MHdBml"
      },
      "outputs": [],
      "source": [
        "# 9625 : BABBA\n",
        "\n",
        "k = int(input())\n",
        "dp = [0] * (k + 1)\n",
        "dp[0] = 'A'\n",
        "\n",
        "cnt = 1\n",
        "while cnt <= k :\n",
        "  new = ''\n",
        "  a, b = 0, 0\n",
        "  for i in dp[cnt-1] :\n",
        "    if i == 'A' :\n",
        "      new += 'B'\n",
        "      b += 1\n",
        "    else :\n",
        "      new += 'BA'\n",
        "      a += 1\n",
        "      b += 1\n",
        "\n",
        "  dp[cnt] = new\n",
        "  cnt += 1\n",
        "\n",
        "print(dp)\n",
        "print(a, b)"
      ]
    },
    {
      "cell_type": "code",
      "source": [
        "# 15312 : 이름 궁합\n",
        "# A의 아스키 = 65\n",
        "# 틀림\n",
        "\n",
        "a = input()\n",
        "b = input()\n",
        "num_list = [3, 2, 1, 2, 3, 3, 2, 3, 3, 2, 2, 1, 2, 2, 1, 2, 2, 2, 1, 2, 1, 1, 1, 2, 2, 1]\n",
        "dp = []\n",
        "\n",
        "for i, j in zip(a, b) :\n",
        "  dp.append(num_list[ord(i) - 65]) # 아스키 코드 이용\n",
        "  dp.append(num_list[ord(j) - 65])\n",
        "print(dp)\n",
        "\n",
        "cnt = 1\n",
        "start = 0\n",
        "\n",
        "while len(dp) - start != 2 :\n",
        "  len_dp = len(dp)\n",
        "\n",
        "  for i in range(start, len(dp)-1) :  # 시작점을 업데이트하면서 진행\n",
        "    dp.append(int(str(dp[i] + dp[i+1])[-1]))  # 두 자리수가 나오면 일의자리수만 이용해야하기 때문\n",
        "  \n",
        "  start += len(dp) - len_dp + 1\n",
        "  cnt += 1\n",
        "  print(dp)\n",
        "\n",
        "print(dp[-2] * 10 + dp[-1])"
      ],
      "metadata": {
        "id": "10faxQQPi2Lp"
      },
      "execution_count": null,
      "outputs": []
    },
    {
      "cell_type": "code",
      "source": [
        "# 2839 : 설탕 배달\n",
        "# dp로 어떻게 풀지.. (옛날에 풀었던 방식과 똑같지만 형식만 바꿈)\n",
        "\n",
        "n = int(input())\n",
        "dp = [n]\n",
        "ok = True\n",
        "\n",
        "cnt = 0\n",
        "while 1 :\n",
        "  if dp[-1]%5 == 0 :\n",
        "    cnt += dp[-1]//5\n",
        "    break\n",
        "  else :\n",
        "    dp.append(dp[-1] - 3)\n",
        "    cnt += 1\n",
        "\n",
        "  if dp[-1] < 0 :\n",
        "    ok = False\n",
        "    break\n",
        "\n",
        "print(dp)\n",
        "if ok == True :\n",
        "  print(cnt)\n",
        "else :\n",
        "  print(-1)\n"
      ],
      "metadata": {
        "id": "RiHPx6yTldck"
      },
      "execution_count": null,
      "outputs": []
    },
    {
      "cell_type": "code",
      "source": [
        "# 14501 : 퇴사\n",
        "# xxxxx 어렵다 xxxxx\n",
        "# https://kyoung-jnn.tistory.com/entry/%EB%B0%B1%EC%A4%8014520%EB%B2%88%ED%8C%8C%EC%9D%B4%EC%8D%ACPython-%ED%87%B4%EC%82%AC\n",
        "\n",
        "n = int(input())\n",
        "tp_list = []\n",
        "for i in range(n) :\n",
        "  x = list(map(int, input().split()))\n",
        "  tp_list.append(x)\n",
        "\n",
        "dp = [0] * (n + 1)\n",
        "dp[1] = tp_list[0][1]\n",
        "\n",
        "cnt = 1\n",
        "while True :\n"
      ],
      "metadata": {
        "id": "hWtwDa5DkVkX"
      },
      "execution_count": null,
      "outputs": []
    },
    {
      "cell_type": "code",
      "source": [
        ""
      ],
      "metadata": {
        "id": "qzcdq6VNt-eI"
      },
      "execution_count": null,
      "outputs": []
    }
  ]
}