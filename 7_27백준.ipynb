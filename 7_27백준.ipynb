{
  "nbformat": 4,
  "nbformat_minor": 0,
  "metadata": {
    "colab": {
      "name": "7_27백준.ipynb",
      "private_outputs": true,
      "provenance": [],
      "collapsed_sections": [],
      "authorship_tag": "ABX9TyMqnDX3t2bsHJyOdw3NRWXF",
      "include_colab_link": true
    },
    "kernelspec": {
      "name": "python3",
      "display_name": "Python 3"
    },
    "language_info": {
      "name": "python"
    }
  },
  "cells": [
    {
      "cell_type": "markdown",
      "metadata": {
        "id": "view-in-github",
        "colab_type": "text"
      },
      "source": [
        "<a href=\"https://colab.research.google.com/github/junbum766/baekjoon/blob/main/7_27%EB%B0%B1%EC%A4%80.ipynb\" target=\"_parent\"><img src=\"https://colab.research.google.com/assets/colab-badge.svg\" alt=\"Open In Colab\"/></a>"
      ]
    },
    {
      "cell_type": "code",
      "metadata": {
        "id": "lw7PlPDWKtCo"
      },
      "source": [
        "# 1598 : 꼬리를 무는 숫자 나열\n",
        "# 잘돌아가지만 백준에서는 안되는 이유는?\n",
        "\n",
        "a, b = map(int, input().split())\n",
        "a_low, b_low = a%4, b%4\n",
        "a_col, b_col = a//4, b//4\n",
        "\n",
        "col = abs(b_col - a_col)\n",
        "low = abs(a_low - b_low)\n",
        "\n",
        "print(col + low)"
      ],
      "execution_count": null,
      "outputs": []
    },
    {
      "cell_type": "code",
      "metadata": {
        "id": "sdUd9kzkLsKh"
      },
      "source": [
        "# 10834 : 벨트\n",
        "\n",
        "n = int(input())\n",
        "dir = 0\n",
        "new_a1 = 1\n",
        "for i in range(n) :\n",
        "  a = list(map(int, input().split()))\n",
        "  dir += a[2]\n",
        "  next_a1 = new_a1*a[1]\n",
        "  new_a1 = next_a1/a[0]\n",
        "print(dir%2, int(new_a1))"
      ],
      "execution_count": null,
      "outputs": []
    },
    {
      "cell_type": "code",
      "metadata": {
        "id": "Z9WX_wEkc-o1"
      },
      "source": [
        "# 2231 : 분해합\n",
        "\n",
        "a = int(input())\n",
        "k = 0\n",
        "for x in range(a+1) :\n",
        "  ans = 0\n",
        "  for i in range(len(str(x))) :\n",
        "    ans += int(str(x)[i])\n",
        "  if x+ans == a :\n",
        "    print(x)\n",
        "    k = 1\n",
        "    break\n",
        "if k == 0 :\n",
        "  print(0)"
      ],
      "execution_count": null,
      "outputs": []
    },
    {
      "cell_type": "code",
      "metadata": {
        "id": "ogJ4H7cGjyUQ"
      },
      "source": [
        "# 10818 : 최소, 최대\n",
        "\n",
        "n = int(input())\n",
        "a = list(map(int, input().split()))\n",
        "max = a[0]\n",
        "min = a[0]\n",
        "for i in range(n) :\n",
        "  if max < a[i] :\n",
        "    max = a[i]\n",
        "  if min > a[i] :\n",
        "    min = a[i]\n",
        "print(min, max)"
      ],
      "execution_count": null,
      "outputs": []
    },
    {
      "cell_type": "code",
      "metadata": {
        "id": "27jU_EJNS9pZ"
      },
      "source": [
        "# 1193 : 분수찾기\n",
        "# 되긴하는데 이상하다는 걸 알고있고, 역시 틀렸다.. (분수모양 그대로 출력할 수가 없어서 문자로 모양만 만든 점도 이상하고 논리도 이상한거 같다..)\n",
        "\n",
        "def Summation(a) :\n",
        "  k = 0\n",
        "  for i in range(a+1) :\n",
        "    k += i\n",
        "  return k\n",
        "\n",
        "a = int(input())\n",
        "x = 0\n",
        "while True :\n",
        "  if Summation(x) < a :\n",
        "    x += 1\n",
        "  else :\n",
        "    num = x - 1\n",
        "    break\n",
        "\n",
        "k = a - Summation(num)\n",
        "\n",
        "if x%2 == 0 :\n",
        "  print(k,'/',x-k+1)\n",
        "else :\n",
        "  print(x-k+1,'/',k)\n"
      ],
      "execution_count": null,
      "outputs": []
    },
    {
      "cell_type": "code",
      "metadata": {
        "id": "V58kaXYAb4Sv"
      },
      "source": [
        "# 1224 : 이상한 곱셈\n",
        "\n",
        "a, b = input().split()\n",
        "sum = 0\n",
        "for i in range(len(a)) :\n",
        "  for j in range(len(b)) :\n",
        "    sum += int(a[i])*int(b[j])\n",
        "print(sum)\n"
      ],
      "execution_count": null,
      "outputs": []
    },
    {
      "cell_type": "code",
      "metadata": {
        "id": "NAEtBKxcvPeE"
      },
      "source": [
        "# 3943 : 헤일스톤 수열\n",
        "\n",
        "r = int(input())\n",
        "for _ in range(r) :\n",
        "  a = int(input())\n",
        "  while True :\n",
        "    if a%2 == 0 :\n",
        "      a = a/2\n",
        "    elif a == 1 :\n",
        "      break\n",
        "    elif a%2 == 1 :\n",
        "      a = a*3+1\n",
        "      \n"
      ],
      "execution_count": null,
      "outputs": []
    }
  ]
}