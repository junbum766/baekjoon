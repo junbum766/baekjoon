{
  "nbformat": 4,
  "nbformat_minor": 0,
  "metadata": {
    "colab": {
      "name": "8_10백준.ipynb",
      "private_outputs": true,
      "provenance": [],
      "collapsed_sections": [],
      "authorship_tag": "ABX9TyNYodPPFmr+hThpmVjV7+qO",
      "include_colab_link": true
    },
    "kernelspec": {
      "name": "python3",
      "display_name": "Python 3"
    },
    "language_info": {
      "name": "python"
    }
  },
  "cells": [
    {
      "cell_type": "markdown",
      "metadata": {
        "id": "view-in-github",
        "colab_type": "text"
      },
      "source": [
        "<a href=\"https://colab.research.google.com/github/junbum766/baekjoon/blob/main/2021_8/8_10%EB%B0%B1%EC%A4%80.ipynb\" target=\"_parent\"><img src=\"https://colab.research.google.com/assets/colab-badge.svg\" alt=\"Open In Colab\"/></a>"
      ]
    },
    {
      "cell_type": "code",
      "metadata": {
        "id": "-PMDfuaJFwZS"
      },
      "source": [
        "# 19532 : 수학은 비대면강의입니다\n",
        "# Solution 1 : 손으로 푸는 것 처럼\n",
        "# 백준에서 왜 틀릴까\n",
        "\n",
        "a, b, c, d, e, f = map(int, input().split())\n",
        "\n",
        "i = d/a\n",
        "a = i*a\n",
        "b = i*b\n",
        "c = i*c\n",
        "\n",
        "y = (c-f)/(b-e)\n",
        "x = (c-b*y)/a\n",
        "\n",
        "print(int(x), int(y))"
      ],
      "execution_count": null,
      "outputs": []
    },
    {
      "cell_type": "code",
      "metadata": {
        "id": "gUmG_HoUKVcH"
      },
      "source": [
        "# 19532 : 수학은 비대면강의입니다\n",
        "# Solution 2 : 크래머 공식\n",
        "\n",
        "import numpy as np\n",
        "\n",
        "abde = list(map(int, input('a, b, d, e 입력 : ').split()))\n",
        "cf = list(map(int, input('c, f 입력 : ').split()))\n",
        "\n",
        "abde_array = np.array(abde).reshape(2,2)\n",
        "cf_array = np.array(cf)\n",
        "abde_det = abde_array[0,0]*abde_array[1,1]-abde_array[0,1]*abde_array[1,0] # np.linalg.det(x) : det구하는 함수도 있었다\n",
        "\n",
        "x_abde = np.delete(abde_array, 0, axis = 1)\n",
        "x_abde = np.insert(x_abde, 0, cf_array, axis = 1)\n",
        "x = (x_abde[0,0]*x_abde[1,1]-x_abde[0,1]*x_abde[1,0])/abde_det\n",
        "\n",
        "y_abde = np.delete(abde_array, 1, axis = 1)\n",
        "y_abde = np.insert(y_abde, 1, cf_array, axis = 1)\n",
        "y = (y_abde[0,0]*y_abde[1,1]-y_abde[0,1]*y_abde[1,0])/abde_det\n",
        "\n",
        "print(int(x), int(y))"
      ],
      "execution_count": null,
      "outputs": []
    },
    {
      "cell_type": "code",
      "metadata": {
        "id": "R7B4E5olPxjk"
      },
      "source": [
        "# 19532 : 수학은 비대면강의입니다\n",
        "# Solution 3 : inverse matrix\n",
        "\n",
        "import numpy as np\n",
        "\n",
        "abde = list(map(int, input('a, b, d, e 입력 : ').split()))\n",
        "cf = list(map(int, input('c, f 입력 : ').split()))\n",
        "\n",
        "abde_array = np.array(abde).reshape(2,2)\n",
        "cf_array = np.array([cf])\n",
        "\n",
        "abde_inv = np.linalg.inv(abde_array) # invers matrix 함수 : np.linalg.inv()\n",
        "xy = abde_inv.dot(np.transpose(cf_array)) # a와 b의 행렬곱은 a.dot(b). (그냥 * 은 내적계산처럼 됨)\n",
        "\n",
        "print(xy[0,0], xy[1,0])"
      ],
      "execution_count": null,
      "outputs": []
    },
    {
      "cell_type": "code",
      "metadata": {
        "id": "lIj0Je179ZNP"
      },
      "source": [
        "# 1009 : 분산처리\n",
        "# 백준 틀리는 이유는..?\n",
        "\n",
        "t = int(input())\n",
        "k = []\n",
        "for _ in range(t) :\n",
        "  a, b = map(int, input().split())\n",
        "  b = b%4\n",
        "  if b == 0 :\n",
        "    b = 4\n",
        "  c = str(a**b)\n",
        "  k.append(c[-1])\n",
        "  \n",
        "for i in range(len(k)) :\n",
        "  print(k[i])"
      ],
      "execution_count": null,
      "outputs": []
    },
    {
      "cell_type": "code",
      "metadata": {
        "id": "FzFLrVvJzrn4"
      },
      "source": [
        "# 20299 : 3대 측정\n",
        "# 잘돌아가는데 백준에서는 왜 틀릴까\n",
        "\n",
        "n, k, l = map(int, input().split())\n",
        "count = 0\n",
        "vip = []\n",
        "\n",
        "for i in range(n) :\n",
        "  a, b, c = map(int, input().split())\n",
        "  if a+b+c >= 5000 and a >= 1600 and b >= 1600 and c >= 1600 :\n",
        "    count += 1\n",
        "    vip.append(a)\n",
        "    vip.append(b)\n",
        "    vip.append(c)\n",
        "print(count)\n",
        "\n",
        "for i in range(len(vip)) :\n",
        "  print(vip[i], end = ' ')"
      ],
      "execution_count": null,
      "outputs": []
    },
    {
      "cell_type": "code",
      "metadata": {
        "id": "LyAljCVM8_yl"
      },
      "source": [
        "# 2745 : 진법 변환\n",
        "# 구글..(덕분에 enumerate라는 함수를 배웠다..ㅋㅋ)\n",
        "\n",
        "dic = { '0':0, '1':1, '2':2, '3':3, '4':4, '5':5, '6':6, '7':7, '8':8, '9':9, 'A':10, 'B':11, 'C':12, 'D':13, 'E':14, 'F':15, 'G':16, 'H':17, 'I':18, 'J':19, 'K':20, 'L':21, 'M':22, 'N':23, 'O':24, 'P':25, 'Q':26, 'R':27, 'S':28, 'T':29, 'U':30, 'V':31, 'W':32, 'X':33, 'Y':34, 'Z':35} \n",
        "N, B = input().split() \n",
        "B = int(B) \n",
        "result = 0 \n",
        "for i, b in enumerate(N) : \n",
        "  result += dic[b] * (B**(len(N)-i-1)) \n",
        "print(result)"
      ],
      "execution_count": null,
      "outputs": []
    },
    {
      "cell_type": "markdown",
      "metadata": {
        "id": "DajzZQ8uAurp"
      },
      "source": [
        ""
      ]
    },
    {
      "cell_type": "code",
      "metadata": {
        "id": "x9bv2c5TA02h"
      },
      "source": [
        "# 1110 : 더하기 사이클\n",
        "# 맞았습니다!\n",
        "\n",
        "a = input()\n",
        "origin_a = a\n",
        "count = 0\n",
        "while True :\n",
        "  if int(a) < 10 :\n",
        "    b = int(a)\n",
        "  else :\n",
        "    b = int(a[0]) + int(a[1])\n",
        "  a = '%d%d' % (int(a[-1]), int(str(b)[-1]))\n",
        "  count += 1\n",
        "  if int(a) == int(origin_a) :\n",
        "    break\n",
        "print(count)\n",
        "\n",
        "# 이런식으로 정수를 만들 수도 있다!\n",
        "# a = 2\n",
        "# b = 3\n",
        "# c = int('%d%d' % (a, b))\n",
        "# print(c)"
      ],
      "execution_count": null,
      "outputs": []
    },
    {
      "cell_type": "code",
      "metadata": {
        "id": "ndscwHcaWlO0"
      },
      "source": [
        "# 1546 : 평균\n",
        "# 맞았습니다.\n",
        "\n",
        "n = int(input())\n",
        "score = list(map(int, input().split()))\n",
        "max_score = max(score)\n",
        "sum = 0\n",
        "for i in score :\n",
        "  new_score = i/max_score * 100\n",
        "  sum += new_score\n",
        "  mean = sum/n\n",
        "print(mean)\n"
      ],
      "execution_count": null,
      "outputs": []
    },
    {
      "cell_type": "code",
      "metadata": {
        "id": "y4Sq_88zsTyM"
      },
      "source": [
        "# 1009 : 분산처리\n",
        "# (노가다 ver)\n",
        "# 1개 반복 수 -> 1, 5, 6\n",
        "# 2개 반복 수 -> 4, 9\n",
        "# 3개 반복 수 -> x\n",
        "# 4개 반복 수 -> 2, 3, 7, 8 \n",
        "# 틀렸습니다.\n",
        "\n",
        "n = int(input())\n",
        "for i in range(n) :\n",
        "  a, b = input().split()\n",
        "\n",
        "  if a[-1] == '1' :\n",
        "    print(1)\n",
        "  elif a[-1] == '5' :\n",
        "    print(5)\n",
        "  elif a[-1] == '6' :\n",
        "    print(6)\n",
        "\n",
        "  elif a[-1] == '4' :\n",
        "    if int(b)%2 == 0 :\n",
        "      print(6)\n",
        "    else :\n",
        "      print(4)\n",
        "  elif a[-1] == '9' :\n",
        "    if int(b)%2 == 0 :\n",
        "      print(1)\n",
        "    else :\n",
        "      print(9)\n",
        "\n",
        "  elif a[-1] == '2' :\n",
        "    if int(b)%4 == 0 :\n",
        "      print(6)\n",
        "    elif int(b)%4 == 1 :\n",
        "      print(2)\n",
        "    elif int(b)%4 == 2 :\n",
        "      print(4)\n",
        "    else :\n",
        "      print(8)\n",
        "  elif a[-1] == '3' :\n",
        "    if int(b)%4 == 0 :\n",
        "      print(1)\n",
        "    elif int(b)%4 == 1 :\n",
        "      print(3)\n",
        "    elif int(b)%4 == 2 :\n",
        "      print(9)\n",
        "    else :\n",
        "      print(7)\n",
        "  elif a[-1] == '7' :\n",
        "    if int(b)%4 == 0 :\n",
        "      print(1)\n",
        "    elif int(b)%4 == 1 :\n",
        "      print(7)\n",
        "    elif int(b)%4 == 2 :\n",
        "      print(9)\n",
        "    else :\n",
        "      print(3)\n",
        "  elif a[-1] == '8' :\n",
        "    if int(b)%4 == 0 :\n",
        "      print(6)\n",
        "    elif int(b)%4 == 1 :\n",
        "      print(8)\n",
        "    elif int(b)%4 == 2 :\n",
        "      print(4)\n",
        "    else :\n",
        "      print(2)\n",
        "\n",
        "\n"
      ],
      "execution_count": null,
      "outputs": []
    }
  ]
}