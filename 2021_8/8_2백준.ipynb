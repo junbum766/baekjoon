{
  "nbformat": 4,
  "nbformat_minor": 0,
  "metadata": {
    "colab": {
      "name": "8_2백준.ipynb",
      "private_outputs": true,
      "provenance": [],
      "collapsed_sections": [],
      "authorship_tag": "ABX9TyM8Qf4aWEtVLS2wmWW8NtLa",
      "include_colab_link": true
    },
    "kernelspec": {
      "name": "python3",
      "display_name": "Python 3"
    },
    "language_info": {
      "name": "python"
    }
  },
  "cells": [
    {
      "cell_type": "markdown",
      "metadata": {
        "id": "view-in-github",
        "colab_type": "text"
      },
      "source": [
        "<a href=\"https://colab.research.google.com/github/junbum766/baekjoon/blob/main/2021_8/8_2%EB%B0%B1%EC%A4%80.ipynb\" target=\"_parent\"><img src=\"https://colab.research.google.com/assets/colab-badge.svg\" alt=\"Open In Colab\"/></a>"
      ]
    },
    {
      "cell_type": "code",
      "metadata": {
        "id": "4ca2nVJSiLa0"
      },
      "source": [
        "# 14659 : 한조서열정리하고옴ㅋㅋ\n",
        "# 왜 백준에서는 틀릴까?\n",
        "\n",
        "n = int(input())\n",
        "a = list(map(int, input().split()))\n",
        "\n",
        "if n != len(a) :\n",
        "  print('봉우리 갯수가 옳지 않습니다.')\n",
        "  \n",
        "else :\n",
        "  count = 0\n",
        "  comp = 0\n",
        "  for i in a :\n",
        "    if i <= n :\n",
        "      count += 1\n",
        "    else :\n",
        "      if count > comp :\n",
        "        comp = count\n",
        "      count = 0\n",
        "\n",
        "  if count > comp : # 왜 또 if 절이 나오는가? --> n = 8이고 a = 1 2 3 9 1 2 3 4 인 경우, 마지막 봉우리가 n보다 작기때문에 위의 else 까지 도달하지 못하고 3을 출력해버림. 이 경우를 커버하기 위해 comp말고 count를 그대로 출력하는 경우가 있어야함. \n",
        "    print(count)\n",
        "  else :\n",
        "    print(comp)\n"
      ],
      "execution_count": null,
      "outputs": []
    },
    {
      "cell_type": "code",
      "metadata": {
        "id": "uiV5KmVdQplg"
      },
      "source": [
        "# 14659 : 한조서열정리하고옴ㅋㅋ\n",
        "# 왜 백준에서는 틀릴까?\n",
        "\n",
        "n = int(input())\n",
        "a = list(map(int, input().split()))\n",
        "count = 0\n",
        "comp = 0\n",
        "for i in range(n) :\n",
        "  if a[i] <= n :\n",
        "    count += 1\n",
        "  else :\n",
        "    if count > comp :\n",
        "      comp = count\n",
        "    count = 0\n",
        "\n",
        "if count > comp : # 왜 또 if 절이 나오는가? --> n = 8이고 a = 1 2 3 9 1 2 3 4 인 경우, 마지막 봉우리가 n보다 작기때문에 위의 else 까지 도달하지 못하고 3을 출력해버림. 이 경우를 커버하기 위해 comp말고 count를 그대로 출력하는 경우가 있어야함. \n",
        "  print(count)\n",
        "else :\n",
        "  print(comp)\n"
      ],
      "execution_count": null,
      "outputs": []
    },
    {
      "cell_type": "code",
      "metadata": {
        "id": "cU0bOJ1V0KmB"
      },
      "source": [
        "# 1193 : 분수찾기\n",
        "# solution 1\n",
        "# 되긴하는데 역시 틀렸다.. \n",
        "\n",
        "def Summation(a) :\n",
        "  k = 0\n",
        "  for i in range(a+1) :\n",
        "    k += i\n",
        "  return k\n",
        "\n",
        "a = int(input())\n",
        "x = 0\n",
        "while True :\n",
        "  if Summation(x) < a :\n",
        "    x += 1\n",
        "  else :\n",
        "    num = x - 1\n",
        "    break\n",
        "\n",
        "k = a - Summation(num)\n",
        "\n",
        "if x%2 == 0 :\n",
        "  print(k,'/',x-k+1)\n",
        "else :\n",
        "  print(x-k+1,'/',k)\n",
        "\n",
        "# 이렇게 해야 정답이다..\n",
        "# if x%2 == 0 :\n",
        "#   print('%d/%d' %(k, x-k+1))\n",
        "# else :\n",
        "#   print('%d/%d' %(x-k+1, k))"
      ],
      "execution_count": null,
      "outputs": []
    },
    {
      "cell_type": "code",
      "metadata": {
        "id": "jl5R1IE_0L2e"
      },
      "source": [
        "# 2798 : 블랙잭\n",
        "# 정답\n",
        "\n",
        "n, m = map(int, input().split())\n",
        "a = list(map(int, input().split()))\n",
        "k = m\n",
        "for x in a :\n",
        "  for y in a : \n",
        "    for z in a :\n",
        "      if x!=y and y!=z and x!=z :\n",
        "        if m >= x+y+z :\n",
        "          if m-(x+y+z) < k :\n",
        "            k = m-(x+y+z)\n",
        "            \n",
        "print(m-k)"
      ],
      "execution_count": null,
      "outputs": []
    },
    {
      "cell_type": "code",
      "metadata": {
        "id": "ehruoC4BBa_M"
      },
      "source": [
        "# 1152 : 단어의 개수\n",
        "# ...? 정답\n",
        "\n",
        "a = input().split()\n",
        "print(len(a))"
      ],
      "execution_count": null,
      "outputs": []
    },
    {
      "cell_type": "code",
      "metadata": {
        "id": "Ms9Xxz9r05r5"
      },
      "source": [
        "# 2408 : 큰 수 계산\n",
        "# 어려워 못풀었어\n",
        "\n",
        "n = int(input())\n",
        "result = []\n",
        "for i in range(2*n-1) :\n",
        "  if i%2 == 0 :\n",
        "    a = int(input('숫자를 입력하세요 : '))\n",
        "    result.append(a)\n",
        "  else :\n",
        "    b = input('연산 기호를 입력하세요 : ')\n",
        "    result.append(b)\n",
        "print(result)"
      ],
      "execution_count": null,
      "outputs": []
    },
    {
      "cell_type": "code",
      "metadata": {
        "id": "Qq37xcsOc5-x"
      },
      "source": [
        "# 2908 : 상수\n",
        "# a가 str일때, int(a[::-1])를 쓰면 역수로 바꿀 수 있다..(구글링)\n",
        "\n",
        "a, b = input().split()\n",
        "for i in range(2) :\n",
        "  if a[2-i] > b[2-i] :\n",
        "   print(a[2],a[1],a[0])\n",
        "   break\n",
        "  elif a[2-i] < b[2-i] :\n",
        "   print(b[2],b[1],b[0])\n",
        "   break"
      ],
      "execution_count": null,
      "outputs": []
    },
    {
      "cell_type": "code",
      "metadata": {
        "id": "VmIxe2BIjFyS"
      },
      "source": [
        "# 19532 : 수학은 비대면강의입니다\n",
        "# 벡터로 받아서 2*2행렬의 해를 찾는 공식 이용?"
      ],
      "execution_count": null,
      "outputs": []
    },
    {
      "cell_type": "code",
      "metadata": {
        "id": "1FiuAm-gm0LY"
      },
      "source": [
        "# 1009 : 분산처리\n",
        "# 제곱 해주는 함수를 정의한 뒤, 일의자리 수만 뽑으면 될듯?"
      ],
      "execution_count": null,
      "outputs": []
    },
    {
      "cell_type": "code",
      "metadata": {
        "id": "iU4M0sKbm0UV"
      },
      "source": [
        "# 2745 : 진법변환"
      ],
      "execution_count": null,
      "outputs": []
    },
    {
      "cell_type": "code",
      "metadata": {
        "id": "ztHxPeT4m0kF"
      },
      "source": [
        "# 20299 : 3대측정"
      ],
      "execution_count": null,
      "outputs": []
    },
    {
      "cell_type": "code",
      "metadata": {
        "id": "sAPAuJuDxZW1"
      },
      "source": [
        "name = \" The Curious Case of Benjamin Button \".split()\n",
        "\n",
        "g = name.count(' ')\n",
        "if name[0] == ' ':\n",
        "   g = g - 1\n",
        "\n",
        "if name[int(len(name))] :\n",
        "  g = g - 1\n",
        "\n",
        "print(g+1)"
      ],
      "execution_count": null,
      "outputs": []
    }
  ]
}