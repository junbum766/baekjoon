{
  "nbformat": 4,
  "nbformat_minor": 0,
  "metadata": {
    "colab": {
      "name": "8_31백준.ipynb",
      "private_outputs": true,
      "provenance": [],
      "collapsed_sections": [],
      "authorship_tag": "ABX9TyPEwwRojyqZkzuvTvjjAJ9r",
      "include_colab_link": true
    },
    "kernelspec": {
      "name": "python3",
      "display_name": "Python 3"
    },
    "language_info": {
      "name": "python"
    }
  },
  "cells": [
    {
      "cell_type": "markdown",
      "metadata": {
        "id": "view-in-github",
        "colab_type": "text"
      },
      "source": [
        "<a href=\"https://colab.research.google.com/github/junbum766/baekjoon/blob/main/2021_8/8_31%EB%B0%B1%EC%A4%80.ipynb\" target=\"_parent\"><img src=\"https://colab.research.google.com/assets/colab-badge.svg\" alt=\"Open In Colab\"/></a>"
      ]
    },
    {
      "cell_type": "code",
      "metadata": {
        "id": "QgKvFec-8KY4"
      },
      "source": [
        "# 1834 : 나머지와 몫이 같은 수\n",
        "# while문\n",
        "# 시간초과\n",
        "\n",
        "n = int(input())\n",
        "a = 1\n",
        "sum = 0\n",
        "\n",
        "while a//n <= n-1 : # n-1 은 주어진 n으로 가능한 최대 나머지. 이것보다 a/n의 몫이 커지면 몫과 나머지가 같아질 수 없음. \n",
        "  if a%n == a//n :  # ex) n=3일때, 가능한 최대 나머지는 3-1인 2이므로, 몫이 3이상은 계산할 필요가 없다.\n",
        "    sum += a\n",
        "  a += 1 \n",
        "\n",
        "print(sum)\n"
      ],
      "execution_count": null,
      "outputs": []
    },
    {
      "cell_type": "code",
      "metadata": {
        "id": "fBVwDvR1DP2x"
      },
      "source": [
        "# 1834 : 나머지와 몫이 같은 수\n",
        "# for문\n",
        "# 시간초과\n",
        "\n",
        "n = int(input())\n",
        "sum = 0\n",
        "\n",
        "for i in range(1,n**2) : # i가 n 제곱 보다 크다는 것은 i/a의 몫이 n-1보다 크다는 것. 이러면 i//a = i%a 불가능.\n",
        "  if i//n == i%n :       # ex) n=3 일때, 나머지는 2가 최대인데, i가 3^2이상이면 몫이 3이상이기 때문에 불가능.\n",
        "    sum += i\n",
        "\n",
        "print(sum)"
      ],
      "execution_count": null,
      "outputs": []
    },
    {
      "cell_type": "code",
      "metadata": {
        "id": "jwdgzRlAAzNL"
      },
      "source": [
        "# 12755 : 수면장애\n",
        "# 메모리 초과\n",
        "# range가 n+1까지라서 비효율적인 것 같긴하다.(10의자리 수 보다 작을 경우엔 딱 맞지만 10의자리보다 크면 비효율적임)\n",
        "\n",
        "n = int(input())\n",
        "n_list = []\n",
        "sum = ''\n",
        "\n",
        "for i in range(1, n+1) :\n",
        "  n_list.append(str(i)) # 숫자들을 문자열로 바꿔서 리스트에 추가\n",
        "\n",
        "for j in range(len(n_list)) :\n",
        "  sum += n_list[j] # 문자열을 서로 더해주므로 1234~~ 이런식으로 붙게 됨\n",
        "\n",
        "print(sum[n-1]) # 0부터 세므로 -1"
      ],
      "execution_count": null,
      "outputs": []
    },
    {
      "cell_type": "code",
      "metadata": {
        "id": "4YCDN-oLFmO1"
      },
      "source": [
        "# 1032 : 명령 프롬프트 \n",
        "# 모르겠다 ~~~~~~~~~~~~~~~~~~~~~~\n",
        "# 구글 답안\n",
        "# 나는 각 문자를 비교해서 겹치는 단어를 새로운 객체에 넣어줄 생각만 했는데, 이분은 첫번째 단어를 수정해가면서 진행했다\n",
        "\n",
        "N = int(input())\n",
        "first_word = list(input())\n",
        "             \n",
        "for i in range(N - 1):\n",
        "    other_words = list(input())\n",
        "    for j in range(len(first_word)):\n",
        "        if first_word[j] != other_words[j]:\n",
        "            first_word[j] = '?'\n",
        "\n",
        "print(''.join(first_word)) # join : 리스트에 있는 문자를 ''로 나눠서 출력\n",
        "                           # ex) '_'.join([a, b, c]) = a_b_c"
      ],
      "execution_count": null,
      "outputs": []
    },
    {
      "cell_type": "code",
      "metadata": {
        "id": "mfaIAQv_Fsea"
      },
      "source": [
        "# 13458 : 시험 감독\n",
        "# 정답\n",
        "\n",
        "n = int(input())\n",
        "num_class = list(map(int, input().split())) # 셋째줄은 두개로 정해져 있지만, 둘째줄은 정해져 있지 않아서 list로 받음\n",
        "chong, bu = map(int, input().split())\n",
        "num_chong = 0\n",
        "num_bu = 0\n",
        "\n",
        "for i in range(n) :\n",
        "  if num_class[i] >= chong : # 총감독관이 볼 수 있는 인원이 반 인원보다 작은 경우\n",
        "    num_chong += 1\n",
        "    if (num_class[i]-chong)%bu != 0 : # 반 인원에서 총감독관이 볼 수 있는 인원을 뺀뒤 부감독관이 볼 수 있는 인원으로 나눈 나머지가 0이 아니면, 1명의 부감독관이 더 추가되어야 함\n",
        "      num_bu += (num_class[i]-chong)//bu + 1\n",
        "    else : # 맞아 떨어지면 몫만큼만 부감독관이 있으면 됨\n",
        "      num_bu += (num_class[i]-chong)//bu\n",
        "  else : # 총감독관이 볼 수 있는 인원이 반 인원보다 큰 경우 : 부감독관은 없어도 됨\n",
        "    num_chong += 1\n",
        "\n",
        "print(num_chong + num_bu)"
      ],
      "execution_count": null,
      "outputs": []
    },
    {
      "cell_type": "markdown",
      "metadata": {
        "id": "Fgi5VVNUIHID"
      },
      "source": [
        ""
      ]
    },
    {
      "cell_type": "code",
      "metadata": {
        "id": "f37RlbqtIIdG"
      },
      "source": [
        "# 1440 : 타임머신\n",
        "# 맞음\n",
        "\n",
        "\n",
        "t = list(map(int, input().split(':')))\n",
        "count = 0\n",
        "\n",
        "\n",
        "for i in t :\n",
        "  if 1<=i<=12 :\n",
        "    count += 1\n",
        "  elif i > 59 :\n",
        "    count = -100\n",
        "\n",
        "if count <= 0 :\n",
        "  print(0) \n",
        "elif count == 1 :\n",
        "  print(2)\n",
        "elif count == 2 :\n",
        "  print(4)\n",
        "else :\n",
        "  print(6)"
      ],
      "execution_count": null,
      "outputs": []
    },
    {
      "cell_type": "code",
      "metadata": {
        "id": "yRVSe-61KGcL"
      },
      "source": [
        "# 1813 : 마지막 한마디\n",
        "# 어렵네유\n",
        "\n",
        "n = int(input())\n",
        "num_list = list(map(int, input(),split()))\n",
        "count = 0\n",
        "\n",
        "if n != len(num_list) :\n",
        "  print('N과 말의 갯수가 틀립니다.')\n",
        "else :\n",
        "  for i in num_list :\n",
        "    for j in num_list :\n",
        "\n"
      ],
      "execution_count": null,
      "outputs": []
    },
    {
      "cell_type": "code",
      "metadata": {
        "id": "Eo_5SFN-KUOx"
      },
      "source": [
        "# 2908 : 상수\n",
        "# 정답\n",
        "\n",
        "a, b = input().split()\n",
        "for i in range(2) :\n",
        "  if a[2-i] > b[2-i] :\n",
        "   print('{0}{1}{2}'.format(a[2],a[1],a[0]))\n",
        "   break\n",
        "  elif a[2-i] < b[2-i] :\n",
        "   print('{0}{1}{2}'.format(b[2],b[1],b[0]))\n",
        "   break"
      ],
      "execution_count": null,
      "outputs": []
    },
    {
      "cell_type": "code",
      "metadata": {
        "id": "wkTUHZwyIrYF"
      },
      "source": [
        "# 1010 : 다리 놓기\n",
        "# 정답\n",
        "\n",
        "def Fac(a) :\n",
        "  result = 1\n",
        "  for i in range(1,a+1) :\n",
        "    result *= i\n",
        "  return result\n",
        "\n",
        "def Combination(x, y) :\n",
        "  return Fac(x)/(Fac(y)*Fac(x-y))\n",
        "\n",
        "t = int(input())\n",
        "for _ in range(t) :\n",
        "  n, m = map(int, input().split())\n",
        "  if m >= n :\n",
        "    print(int(Combination(m, n)))\n",
        "  else :\n",
        "    print('n이 m보다 작아야 합니다')\n"
      ],
      "execution_count": null,
      "outputs": []
    },
    {
      "cell_type": "code",
      "metadata": {
        "id": "kwOgWTr8NJKV"
      },
      "source": [
        "# 1037 : 약수\n",
        "# 정답\n",
        "\n",
        "n = int(input())\n",
        "num_list = list(map(int, input().split()))\n",
        "num_list.sort()\n",
        "\n",
        "print(num_list[0]*num_list[-1])"
      ],
      "execution_count": null,
      "outputs": []
    },
    {
      "cell_type": "code",
      "metadata": {
        "id": "YPvYPDdeOmyh"
      },
      "source": [
        "# 1158 : 요세푸스 문제\n",
        "\n",
        "n, k = map(int, input()split())\n",
        "n_list = []\n",
        "\n",
        "for i in range(1, n+1) :\n",
        "  n_list.append(i)\n",
        "\n",
        "for _ in range(n) :\n",
        "  if len(n_list) > k :\n"
      ],
      "execution_count": null,
      "outputs": []
    }
  ]
}