{
  "nbformat": 4,
  "nbformat_minor": 0,
  "metadata": {
    "colab": {
      "name": "8_17백준.ipynb",
      "private_outputs": true,
      "provenance": [],
      "collapsed_sections": [],
      "authorship_tag": "ABX9TyNmZ5Pi/SJk29k35i/0Rknt"
    },
    "kernelspec": {
      "name": "python3",
      "display_name": "Python 3"
    },
    "language_info": {
      "name": "python"
    }
  },
  "cells": [
    {
      "cell_type": "code",
      "metadata": {
        "id": "0SkLR9NJFNoQ"
      },
      "source": [
        "# 2750 : 수 정렬하기\n",
        "# 정답\n",
        "\n",
        "n = int(input())\n",
        "num_list = []\n",
        "for _ in range(n) :\n",
        "  num = int(input())\n",
        "  num_list.append(num)\n",
        "num_list.sort()\n",
        "\n",
        "for i in range(n) :\n",
        "  print(num_list[i])"
      ],
      "execution_count": null,
      "outputs": []
    },
    {
      "cell_type": "code",
      "metadata": {
        "id": "DySj1w7lGsjU"
      },
      "source": [
        "# 1296 : 데이트\n",
        "# 정답\n",
        "\n",
        "my_name = input()\n",
        "n = int(input())\n",
        "comp = 0\n",
        "girl_list = []\n",
        "\n",
        "for _ in range(n) :\n",
        "  girl_name = input()\n",
        "  L, O, V, E = 0, 0, 0, 0\n",
        "  name = my_name + girl_name\n",
        "  for i in name :\n",
        "    if i == 'L' :\n",
        "      L += 1\n",
        "    elif i == 'O' :\n",
        "      O += 1\n",
        "    elif i == 'V' :\n",
        "      V += 1\n",
        "    elif i == 'E' :\n",
        "      E += 1\n",
        "  score = ((L+O)*(L+V)*(L+E)*(O+V)*(O+E)*(V+E)) % 100\n",
        "\n",
        "# 크면 추가하되, strictly 하게 크다면 이전에 추가했던 애들은 모조리 삭제, 같다면 그대로. 끝까지 같을 경우에 오름차순으로 정리해서 뽑기 위함.\n",
        "  if score >= comp :\n",
        "    girl_list.append(girl_name)\n",
        "  if score > comp :\n",
        "    comp = score\n",
        "    del girl_list[:-1] \n",
        "\n",
        "girl_list.sort()\n",
        "print(girl_list[0])\n"
      ],
      "execution_count": null,
      "outputs": []
    },
    {
      "cell_type": "code",
      "metadata": {
        "id": "SOIxNy5GchpL"
      },
      "source": [
        "# 6679 : 싱기한 네자리 숫자\n",
        "# (조장님 convert 함수 차용)\n",
        "# 맞았네..?\n",
        "\n",
        "dic = { '0':0, '1':1, '2':2, '3':3, '4':4, '5':5, '6':6, '7':7, '8':8, '9':9, 'a':10, 'b':11, 'c':12, 'd':13, 'e':14, 'f':15, 'g':16, 'h':17, 'i':18, 'j':19, 'k':20, 'l':21, 'm':22, 'n':23, 'o':24, 'p':25, 'q':26, 'r':27, 's':28, 't':29, 'u':30, 'v':31, 'w':32, 'x':33, 'y':34, 'z':35}\n",
        "\n",
        "import string\n",
        "\n",
        "tmp = string.digits+string.ascii_lowercase\n",
        "def convert(num, base) :\n",
        "    q, r = divmod(num, base)\n",
        "    if q == 0 :\n",
        "        return tmp[r] \n",
        "    else :\n",
        "        return convert(q, base) + tmp[r]\n",
        "\n",
        "n_list = []\n",
        "\n",
        "for i in range(1000, 10000) :\n",
        "  n_10, n_12, n_16 = 0, 0, 0\n",
        "\n",
        "  for a in range(len(str(i))) :\n",
        "    n_10 += int(str(i)[a])\n",
        "  \n",
        "  number_12 = convert(i, 12)\n",
        "  for b in range(len(number_12)) :\n",
        "    n_12 += dic[number_12[b]]\n",
        "\n",
        "  number_16 = convert(i, 16)\n",
        "  for c in range(len(number_16)) :\n",
        "    n_16 += dic[number_16[c]]\n",
        "\n",
        "  if n_10 == n_12 == n_16 :\n",
        "    n_list.append(i)\n",
        "\n",
        "n_list.sort()\n",
        "\n",
        "for j in range(len(n_list)) :\n",
        "  print(n_list[j])\n",
        "\n"
      ],
      "execution_count": null,
      "outputs": []
    },
    {
      "cell_type": "code",
      "metadata": {
        "id": "HePjdRXUG0bR"
      },
      "source": [
        "# 2839 : 설탕배달\n",
        "# 구글답안에 비해 비효율적임\n",
        "\n",
        "n = int(input())\n",
        "a = []\n",
        "\n",
        "for i in range(n) :\n",
        "  if 3*i > n : # 쓸데 없는 연산 줄여주기 위함 1 (없어도 되는 조건문)\n",
        "    break\n",
        "  for j in range(n) :\n",
        "    if 3*i + 5*j == n :\n",
        "      a.append(i+j)\n",
        "    if 3*i + 5*j > n : # 쓸데 없는 연산 줄여주기 위함2\n",
        "      break\n",
        "\n",
        "a.sort()\n",
        "\n",
        "if len(a) == 0 :\n",
        "  print(-1)\n",
        "else :\n",
        "  print(a[0])"
      ],
      "execution_count": null,
      "outputs": []
    },
    {
      "cell_type": "code",
      "metadata": {
        "id": "5gURRdPKIhDz"
      },
      "source": [
        "# 2839 : 설탕배달 구글답안\n",
        "# 5의배수가 있다면 나눠 줘야 최소한의 봉지를 가져가므로, 5의 배수가 생기면 반드시 나눠주고, 없으면 3씩 빼주는 방식.\n",
        "# 대부분의 구글 답안이 이와 같다.\n",
        "\n",
        "sugar = int(input())\n",
        "\n",
        "bag = 0\n",
        "while sugar >= 0 :\n",
        "    if sugar % 5 == 0 :  # 5의 배수이면\n",
        "        bag += (sugar // 5)  # 5로 나눈 몫을 구해야 정수가 됨\n",
        "        print(bag)\n",
        "        break\n",
        "    sugar -= 3  \n",
        "    bag += 1  # 5의 배수가 될 때까지 설탕-3, 봉지+1\n",
        "else :\n",
        "    print(-1)"
      ],
      "execution_count": null,
      "outputs": []
    },
    {
      "cell_type": "markdown",
      "metadata": {
        "id": "L0dyRzkI6GOV"
      },
      "source": [
        ""
      ]
    },
    {
      "cell_type": "code",
      "metadata": {
        "id": "9ZSl66hy9hLu"
      },
      "source": [
        "# 9506 : 약수들의 합\n",
        "# 정답\n",
        "\n",
        "def divisor(x) :\n",
        "  divisor_list = []\n",
        "  for i in range(1, x) :\n",
        "    if x%i == 0 :\n",
        "      divisor_list.append(i)\n",
        "  return divisor_list\n",
        "\n",
        "while True :\n",
        "  sum = 0\n",
        "  a = int(input())\n",
        "  if a == -1 :\n",
        "    break\n",
        "  else :\n",
        "    for j in range(len(divisor(a))) :\n",
        "      sum += divisor(a)[j]\n",
        "    if sum == a :\n",
        "      print(a, '=', end = ' ')\n",
        "      for k in range(len(divisor(a))) :\n",
        "        if k == len(divisor(a)) - 1 :\n",
        "          print(divisor(a)[-1])\n",
        "        else :\n",
        "          print(divisor(a)[k], '+', end = ' ')\n",
        "    else :\n",
        "      print(a, 'is NOT perfect.')"
      ],
      "execution_count": null,
      "outputs": []
    },
    {
      "cell_type": "code",
      "metadata": {
        "id": "Adk5nBJy9i56"
      },
      "source": [
        "# 11050 : 이항 계수1\n",
        "# 정답\n",
        "\n",
        "def Fac(x) :\n",
        "  result = 1\n",
        "  for i in range(1, x+1) :\n",
        "     result *= i\n",
        "  return result\n",
        "\n",
        "n, k = map(int, input().split())\n",
        "com = Fac(n)/(Fac(k)*Fac(n-k))\n",
        "print(int(com))"
      ],
      "execution_count": null,
      "outputs": []
    },
    {
      "cell_type": "code",
      "metadata": {
        "id": "cPDag0qsB2_a"
      },
      "source": [
        "# 1459 : 걷기"
      ],
      "execution_count": null,
      "outputs": []
    },
    {
      "cell_type": "code",
      "metadata": {
        "id": "39yG0FquqGkS"
      },
      "source": [
        "# 7481 : ATM놀이"
      ],
      "execution_count": null,
      "outputs": []
    },
    {
      "cell_type": "code",
      "metadata": {
        "id": "jDTgH-ev7asv"
      },
      "source": [
        "for i in range (1000,10000):\n",
        "  ten=int(i,10)\n",
        "  ten_L=list(ten)\n",
        "  ten_S=sum(ten_L)\n",
        "  \n",
        "  twelve=int(i,12)\n",
        "  twelve_L=list(twelve)\n",
        "  twelve_S=sum(twelve_L)\n",
        "\n",
        "  sixteen=int(i,16)\n",
        "  sixteen_L=int(sixteen)\n",
        "  sixteen_S=sum(sixteen_L)\n",
        "\n",
        "  if ten_S==twelve_S==sixteen_S:\n",
        "    print(i)"
      ],
      "execution_count": null,
      "outputs": []
    },
    {
      "cell_type": "code",
      "metadata": {
        "id": "wALvjZTY7qUQ"
      },
      "source": [
        "a = list(1)\n",
        "print(a)"
      ],
      "execution_count": null,
      "outputs": []
    },
    {
      "cell_type": "code",
      "metadata": {
        "id": "hVrHrAc57tTD"
      },
      "source": [
        ""
      ],
      "execution_count": null,
      "outputs": []
    }
  ]
}