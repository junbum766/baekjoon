{
  "nbformat": 4,
  "nbformat_minor": 0,
  "metadata": {
    "colab": {
      "name": "8_24백준.ipynb",
      "private_outputs": true,
      "provenance": [],
      "collapsed_sections": [],
      "authorship_tag": "ABX9TyMz7HBo/F6r48X3yImfORi8"
    },
    "kernelspec": {
      "name": "python3",
      "display_name": "Python 3"
    },
    "language_info": {
      "name": "python"
    }
  },
  "cells": [
    {
      "cell_type": "code",
      "metadata": {
        "id": "dHCjJz-APYeX"
      },
      "source": [
        "# 7481 : ATM놀이\n",
        "# 돌아가는 것 같은데 백준은 틀림\n",
        "\n",
        "n = int(input())\n",
        "\n",
        "for i in range(n) :\n",
        "  a, b, s = map(int, input().split())\n",
        "  num_a, num_b = 0, 0\n",
        "  while s >= 0 :\n",
        "    \n",
        "    if a > b :\n",
        "      if s % a == 0 :\n",
        "        num_a = s // a\n",
        "        break\n",
        "      s -= b\n",
        "      num_b += 1\n",
        "\n",
        "    else :\n",
        "      if s % b == 0 :\n",
        "        num_b = s // b\n",
        "        break\n",
        "      s -= a\n",
        "      num_a += 1\n",
        "\n",
        "  if s > 0 :\n",
        "    print(num_a, num_b)\n",
        "  else :\n",
        "    print('Impossible')\n"
      ],
      "execution_count": null,
      "outputs": []
    },
    {
      "cell_type": "code",
      "metadata": {
        "id": "jub3b89QAYt8"
      },
      "source": [
        "# 2292 : 벌집\n",
        "# 정답\n",
        "\n",
        "x = int(input())\n",
        "if x>=1 and x<=1000000000 :\n",
        "  x = x-1 \n",
        "  six = 6\n",
        "  count = 1\n",
        "  \n",
        "  while x > 0 :\n",
        "    x -= six\n",
        "    count += 1\n",
        "    six += 6\n",
        "\n",
        "  print(count)\n",
        "  \n",
        "else :\n",
        "  print('1과 1,000,000,000 사이의 숫자를 입력하세요.')\n"
      ],
      "execution_count": null,
      "outputs": []
    },
    {
      "cell_type": "code",
      "metadata": {
        "id": "r-V532HjLF9l"
      },
      "source": [
        "# 1340 : 연도 진행바\n",
        "# 정답..!\n",
        "# January 10, 2004 00:01 -> 2.45920613236187 윤년인 경우 test\n",
        "\n",
        "dic = {'January':'1', 'February':'2', 'March':'3', 'April':'4', 'May':'5', 'June':'6', 'July':'7', 'August':'8', 'September':'9', 'October':'10', 'November':'11', 'December':'12'}\n",
        "leap = [31, 29, 31, 30, 31, 30, 31, 31, 30, 31, 30, 31]\n",
        "not_leap = [31, 28, 31, 30, 31, 30, 31, 31, 30, 31, 30, 31]\n",
        "numerator = 0\n",
        "\n",
        "time = input()\n",
        "time = time.replace(',', '')\n",
        "time = time.replace(':', ' ')\n",
        "time = time.split() # input 받자마자 split하면 리스트 형태에 들어가기 때문에 replace를 못쓴다.\n",
        "\n",
        "if (int(time[2])%400 == 0) or (int(time[2])%4 == 0 and int(time[2])%100 != 0) : # 윤년인 경우\n",
        "  denominator = sum(leap)*24*60 # 윤년의 모든 시간을 분단위로 나타냄\n",
        "  for i in range(int(dic[time[0]]) - 1) : # 주어진 달까지의 day를 더함\n",
        "    numerator += leap[i]\n",
        "  numerator = numerator*24*60 + (int(time[1])-1)*24*60 + int(time[3])*60 + int(time[4]) # 시간 단위를 분으로 바꿈\n",
        "\n",
        "else : # 윤년이 아닌 경우\n",
        "  denominator = sum(not_leap)*24*60\n",
        "  for i in range(int(dic[time[0]]) - 1) :\n",
        "    numerator += not_leap[i]\n",
        "  numerator = numerator*24*60 + (int(time[1])-1)*24*60 + int(time[3])*60 + int(time[4])\n",
        "# 두번째 덧셈? -> 해당 달이 모두 지나지 않았기 때문에 일수를 따로 더해줌. 1을 뺀 이유는 해당 일이 다 지나지 않아서.\n",
        "\n",
        "print(numerator/denominator * 100)\n"
      ],
      "execution_count": null,
      "outputs": []
    },
    {
      "cell_type": "markdown",
      "metadata": {
        "id": "FVak1CW_nb0Z"
      },
      "source": [
        ""
      ]
    },
    {
      "cell_type": "code",
      "metadata": {
        "id": "cxaspS-Nnfbu"
      },
      "source": [
        "# 1292 : 쉽게 푸는 문제\n",
        "# 정답\n",
        "\n",
        "a, b = map(int, input().split())\n",
        "num_list = []\n",
        "n = 1\n",
        "\n",
        "while True :\n",
        "  for _ in range(n) :\n",
        "    num_list.append(n)\n",
        "    if len(num_list) == b :\n",
        "      break\n",
        "  n += 1\n",
        "  if len(num_list) == b :\n",
        "    break\n",
        "\n",
        "print(sum(num_list[a-1:b]))\n",
        "\n"
      ],
      "execution_count": null,
      "outputs": []
    },
    {
      "cell_type": "code",
      "metadata": {
        "id": "jq4TVR_5uMsJ"
      },
      "source": [
        "# 1312 : 소수\n",
        "# 런타임 에러\n",
        "\n",
        "a, b, n = map(int, input().split())\n",
        "k = float(a/b) - int(a/b)\n",
        "print(str(k)[n+1])"
      ],
      "execution_count": null,
      "outputs": []
    },
    {
      "cell_type": "code",
      "metadata": {
        "id": "vrDS5WjUzxox"
      },
      "source": [
        "3*11 + 5*6 + 4*2"
      ],
      "execution_count": null,
      "outputs": []
    },
    {
      "cell_type": "code",
      "metadata": {
        "id": "2DfZIQhz6eOJ"
      },
      "source": [
        ""
      ],
      "execution_count": null,
      "outputs": []
    }
  ]
}