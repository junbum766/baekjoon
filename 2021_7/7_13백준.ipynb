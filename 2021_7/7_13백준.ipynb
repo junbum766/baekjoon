{
  "nbformat": 4,
  "nbformat_minor": 0,
  "metadata": {
    "colab": {
      "name": "7_13백준.ipynb",
      "private_outputs": true,
      "provenance": [],
      "collapsed_sections": [],
      "authorship_tag": "ABX9TyMiWInRwGP4PdFNLI9Wsl3e",
      "include_colab_link": true
    },
    "kernelspec": {
      "name": "python3",
      "display_name": "Python 3"
    },
    "language_info": {
      "name": "python"
    }
  },
  "cells": [
    {
      "cell_type": "markdown",
      "metadata": {
        "id": "view-in-github",
        "colab_type": "text"
      },
      "source": [
        "<a href=\"https://colab.research.google.com/github/junbum766/baekjoon/blob/main/2021_7/7_13%EB%B0%B1%EC%A4%80.ipynb\" target=\"_parent\"><img src=\"https://colab.research.google.com/assets/colab-badge.svg\" alt=\"Open In Colab\"/></a>"
      ]
    },
    {
      "cell_type": "markdown",
      "metadata": {
        "id": "Xlxb_EO_5_0L"
      },
      "source": [
        "7/13"
      ]
    },
    {
      "cell_type": "code",
      "metadata": {
        "id": "KRdauQc76DtU"
      },
      "source": [
        "# 1\n",
        "# 브론즈3\n",
        "# 1837\n",
        "\n",
        "P, K = map(int, input().split( ))\n",
        "n = 0\n",
        "for i in range(2, K) :\n",
        "    if P % i == 0 :\n",
        "        print('BAD', i)\n",
        "        break\n",
        "    else :\n",
        "      n = n + 1\n",
        "      if n == K - 2:\n",
        "        print('GOOD')"
      ],
      "execution_count": null,
      "outputs": []
    },
    {
      "cell_type": "code",
      "metadata": {
        "id": "xhFzjdymcbH2"
      },
      "source": [
        "# 2\n",
        "# 브론즈3\n",
        "# 1837\n",
        "\n",
        "def PrimeNum(a) :\n",
        "  for i in range(2, a + 1) :\n",
        "    for j in range(2, i + 1) :\n",
        "      if i * j == a :\n",
        "        return j, i\n",
        "        \n",
        "P, K = map(int, input().split( ))\n",
        "x = PrimeNum(P)\n",
        "if K > x[0] :\n",
        "  print('BAD', x[0])\n",
        "else :\n",
        "  print('GOOD')"
      ],
      "execution_count": null,
      "outputs": []
    },
    {
      "cell_type": "code",
      "metadata": {
        "id": "9dN79L-EsM2z"
      },
      "source": [
        "# 3\n",
        "# 브론즈4\n",
        "# 1008\n",
        "\n",
        "a, b = map(int, input().split( ))\n",
        "print(a/b)"
      ],
      "execution_count": null,
      "outputs": []
    },
    {
      "cell_type": "code",
      "metadata": {
        "id": "ZoJYQ64EsNRY"
      },
      "source": [
        "# 4\n",
        "# 브론즈4\n",
        "# 2420\n",
        "# abs함수 사용\n",
        "\n",
        "N, M = map(int, input().split( ))\n",
        "print(abs(N-M))"
      ],
      "execution_count": null,
      "outputs": []
    },
    {
      "cell_type": "code",
      "metadata": {
        "id": "zxxlzzStvRox"
      },
      "source": [
        "# 5\n",
        "# 브론즈3\n",
        "# 2506\n",
        "\n",
        "N = int(input())\n",
        "a = list(map(int, input().split()))\n",
        "score = 0\n",
        "s = 0\n",
        "for i in range(0, N) :\n",
        "  if a[i] == 1 :\n",
        "    score += 1\n",
        "    s += score\n",
        "  else :\n",
        "    score = 0\n",
        "print(s)"
      ],
      "execution_count": null,
      "outputs": []
    },
    {
      "cell_type": "code",
      "metadata": {
        "id": "CtZF4brIOks6"
      },
      "source": [
        "# 6\n",
        "# 브론즈3\n",
        "# 1333\n",
        "# 틀렸다 ~ ㅋㅋ\n",
        "\n",
        "N, L, D = map(int, input().split( ))\n",
        "for i in range(1, N + 1) :\n",
        "  for j in range(1, N + 1) : \n",
        "    if j*(L + 5) - 5 <= i*D < j*(L + 5) :\n",
        "      print(i*D)\n",
        "      break\n",
        "    elif (N - 1)*(L + 5) + L <= i*D :\n",
        "      print(i*D)\n",
        "      break\n",
        "    elif (N - 1)*(L + 5) + L > i*D :\n",
        "      while (N - 1)*(L + 5) + L > i*D :\n",
        "        i += 1\n",
        "      print(i*D)\n",
        "      break\n",
        "  if j*(L + 5) - 5 <= i*D < j*(L + 5) or (N - 1)*(L + 5) + L <= i*D :\n",
        "    break"
      ],
      "execution_count": null,
      "outputs": []
    },
    {
      "cell_type": "code",
      "metadata": {
        "id": "4o6hYDF5k3Nn"
      },
      "source": [
        "# 7\n",
        "# 브론즈3\n",
        "# 1333\n",
        "# 다른 사람 답..\n",
        "\n",
        "n,l,d = map(int, input().split())\n",
        "t, ans = 0,d\n",
        "for _ in range(n):\n",
        "    if t<=ans<t+l:\n",
        "        while ans<t+l:\n",
        "          ans+=d\n",
        "    if t+l<=ans<t+l+5:\n",
        "        break\n",
        "    t+=l+5\n",
        "print(ans)"
      ],
      "execution_count": null,
      "outputs": []
    },
    {
      "cell_type": "code",
      "metadata": {
        "id": "VBEn3iEq0dj2"
      },
      "source": [
        "# 8\n",
        "# 브론즈3\n",
        "# 2739\n",
        "\n",
        "a = int(input())\n",
        "for i in range(1, 10) :\n",
        "  ans = a*i\n",
        "  print(a, '*', i, '=', ans)"
      ],
      "execution_count": null,
      "outputs": []
    },
    {
      "cell_type": "code",
      "metadata": {
        "id": "_qodF5vC3uyi"
      },
      "source": [
        "# 9\n",
        "# 브론즈 3\n",
        "# 1267\n",
        "\n",
        "a = int(input())\n",
        "b = list(map(int, input().split( )))\n",
        "y = 0\n",
        "m = 0\n",
        "for i in b :\n",
        "  p = i//30\n",
        "  y += 10*(p+1)\n",
        "for i in b :\n",
        "  q = i//60\n",
        "  m += 15*(q+1)\n",
        "if m < y :\n",
        "  print('M', m)\n",
        "elif y < m :\n",
        "  print('Y', y)\n",
        "elif y == m :\n",
        "  print('Y', 'M', y)"
      ],
      "execution_count": null,
      "outputs": []
    },
    {
      "cell_type": "code",
      "metadata": {
        "id": "RM_L0Wnb9ipy"
      },
      "source": [
        "# 10\n",
        "# 브론즈3\n",
        "# 5692\n",
        "# def Fac(a) :\n",
        "#   return Fac(a-1)*a if a>0 else 1  --> 팩토리얼 함수 더 깔끔한 방법\n",
        "\n",
        "import sys\n",
        "\n",
        "def Fac(a) :\n",
        "  ans = 1\n",
        "  for i in range(1, a+1) :\n",
        "    ans = ans*i\n",
        "  return ans\n",
        "\n",
        "while True :\n",
        "  a = sys.stdin.readline().rstrip()\n",
        "  b = 0\n",
        "  if int(a) == 0 :\n",
        "    break\n",
        "  else :\n",
        "    for i in range(len(a)) :\n",
        "      x = int(a[len(a)-i-1])\n",
        "      b += x*Fac(i+1)\n",
        "    print(b)"
      ],
      "execution_count": null,
      "outputs": []
    },
    {
      "cell_type": "code",
      "metadata": {
        "id": "5Brh56u_35qU"
      },
      "source": [
        "# 11\n",
        "# 4493 가위 바위 보?\n",
        "\n",
        "def RSP(a) :\n",
        "  if a == 'R S' or a == 'P R' or a == 'S P' :\n",
        "    return 1\n",
        "  elif a == 'S R' or a == 'R P' or a == 'P S' :\n",
        "    return -1\n",
        "  else :\n",
        "    return 0\n",
        "\n",
        "t = int(input())\n",
        "for _ in range(t) :\n",
        "  n = int(input())\n",
        "  ans = 0\n",
        "  for _ in range(n) :\n",
        "    x = input()\n",
        "    ans += RSP(x)\n",
        "  if ans > 0 :\n",
        "    print('Player 1')\n",
        "  elif ans < 0 :\n",
        "    print('Player 2')\n",
        "  elif ans == 0 :\n",
        "    print('TIE')"
      ],
      "execution_count": null,
      "outputs": []
    },
    {
      "cell_type": "code",
      "metadata": {
        "id": "_5_OJOiAPIBM"
      },
      "source": [
        "# 12\n",
        "# 1284 집 주소\n",
        "\n",
        "def CM(a) :\n",
        "  if a == 1 :\n",
        "    return 2\n",
        "  elif a == 0 :\n",
        "    return 4\n",
        "  else :\n",
        "    return 3\n",
        "\n",
        "while True :\n",
        "  a = input()\n",
        "  if int(a) == 0 :\n",
        "    break\n",
        "  cm = 0\n",
        "  for i in range(len(a)) :\n",
        "    x = int(a[i])\n",
        "    cm += CM(x)\n",
        "  print(cm + len(a) + 1)"
      ],
      "execution_count": null,
      "outputs": []
    },
    {
      "cell_type": "code",
      "metadata": {
        "id": "OYCUqAPV3HaY"
      },
      "source": [
        "# 13\n",
        "# 2747 피보나치 수\n",
        "\n",
        "def Fibo(a) :\n",
        "  if a>=2 :\n",
        "    return Fibo(a-2)+Fibo(a-1)  \n",
        "  elif a == 0 :\n",
        "    return 0\n",
        "  elif a == 1 :\n",
        "    return 1\n",
        "\n",
        "x = int(input())\n",
        "Fibo(x)"
      ],
      "execution_count": null,
      "outputs": []
    },
    {
      "cell_type": "markdown",
      "metadata": {
        "id": "jX8UM40M6LdT"
      },
      "source": [
        "7/20"
      ]
    },
    {
      "cell_type": "code",
      "metadata": {
        "id": "bkp8r4K5CAVS"
      },
      "source": [
        "# 14\n",
        "# 3029 : 경고 -> 틀림\n",
        "\n",
        "now = input().split(':')\n",
        "t = input().split(':')\n",
        "a = [00, 00, 00]\n",
        "for i in range(3) :\n",
        "  a[i] = int(t[i])-int(now[i])\n",
        "  if i == 0 :\n",
        "    if a[i] < 0 :\n",
        "      a[i] = 24+a[i]\n",
        "  elif i >= 1 :\n",
        "    if a[i] < 0 :\n",
        "      a[i-1] -= 1\n",
        "      a[i] = 60+a[i] \n",
        "print(a[0],':',a[1],':',a[2])"
      ],
      "execution_count": null,
      "outputs": []
    },
    {
      "cell_type": "code",
      "metadata": {
        "id": "dJTyEosDcm5-"
      },
      "source": [
        "# 15\n",
        "# 3029 구글 답안..ㅜㅜ\n",
        "\n",
        "h1, m1, s1 = map(int, input().split(':'))\n",
        "h2, m2, s2 = map(int, input().split(':'))\n",
        "t1 = h1*60*60 + m1*60 + s1\n",
        "t2 = h2*60*60 + m2*60 + s2\n",
        "t = t2 - t1 if t2 > t1 else t2-t1+24*60*60\n",
        "h = t//60//60\n",
        "m = t//60 % 60\n",
        "s = t%60\n",
        "print(\"%02d:%02d:%02d\" % (h, m, s)) # \"%02d\" 에서 d : 10진수 정수, 0 : 빈자리를 0으로 채운다, 2 : 2칸을 차지한다는 뜻이다"
      ],
      "execution_count": null,
      "outputs": []
    },
    {
      "cell_type": "code",
      "metadata": {
        "id": "2QFA896C0yV7"
      },
      "source": [
        "# 16\n",
        "# 10817 : 세 수 --> 잘돌아가는데 백준에서는 틀림\n",
        "\n",
        "a = list(input().split())\n",
        "a.sort()\n",
        "print(a[1])\n"
      ],
      "execution_count": null,
      "outputs": []
    },
    {
      "cell_type": "code",
      "metadata": {
        "id": "0r3ZpWSD29dQ"
      },
      "source": [
        "# 17\n",
        "# 10817 : 세 수\n",
        "\n",
        "a, b, c = map(int, input().split())\n",
        "if a >= b >= c or c >= b>= a :\n",
        "  print(b)\n",
        "elif a >= c >= b or b >= c >= a :\n",
        "  print(c)\n",
        "elif b >= a >= c or c >= a >= b :\n",
        "  print(a)\n"
      ],
      "execution_count": null,
      "outputs": []
    },
    {
      "cell_type": "code",
      "metadata": {
        "id": "wg6rcU5w5Q8r"
      },
      "source": [
        "# 18\n",
        "# 10818 : 최소, 최대\n",
        "\n",
        "n = int(input())\n",
        "a = list(map(int, input().split()))\n",
        "max = a[0]\n",
        "min = a[0]\n",
        "for i in range(n) :\n",
        "  if max < a[i] :\n",
        "    max = a[i]\n",
        "  if min > a[i] :\n",
        "    min = a[i]\n",
        "print(min, max)"
      ],
      "execution_count": null,
      "outputs": []
    },
    {
      "cell_type": "code",
      "metadata": {
        "id": "obV1SvA575cl"
      },
      "source": [
        "# 19\n",
        "# 2231 : 분해합\n",
        "\n",
        "a = int(input())\n",
        "k = 0\n",
        "for x in range(a+1) :\n",
        "  ans = 0\n",
        "  for i in range(len(str(x))) :\n",
        "    ans += int(str(x)[i])\n",
        "  if x+ans == a :\n",
        "    print(x)\n",
        "    k = 1\n",
        "    break\n",
        "if k == 0 :\n",
        "  print(0)\n",
        "  \n"
      ],
      "execution_count": null,
      "outputs": []
    },
    {
      "cell_type": "code",
      "metadata": {
        "id": "B-EE1MJmCZIF"
      },
      "source": [
        "# 20\n",
        "# 1598 : 꼬리를 무는 숫자 나열\n",
        "# 가로길이 = 구구단 4단 -> 4*x 에서 x 간의 차이\n",
        "# 세로길이 = 4로 나눈 나머지 활용?\n"
      ],
      "execution_count": null,
      "outputs": []
    },
    {
      "cell_type": "code",
      "metadata": {
        "id": "GTQdi-DtCwxc"
      },
      "source": [
        "# 21\n",
        "# 10834 : 벨트\n",
        "# \n",
        "\n",
        "n = int(input())\n",
        "a1, a2, a3 = map(int, input().split())\n",
        "b1, b2, b3 = map(int, input().split())\n",
        "c1, c2, c3 = map(int, input().split())\n",
        "\n",
        "if (a3+b3+c3)%2 == 1 :\n",
        "  print(1, end = ' ')\n",
        "else :\n",
        "  print(0, end = ' ')\n",
        "\n",
        "new_a2 = a2/a1\n",
        "new_b1 = new_a2\n",
        "new_b2 = b2*(new_b1/b1)\n",
        "new_c1 = new_b2\n",
        "new_c2 = c2*(new_c1/c1)\n",
        "print(new_c2)\n",
        "\n"
      ],
      "execution_count": null,
      "outputs": []
    },
    {
      "cell_type": "code",
      "metadata": {
        "id": "X4yovDakPnLW"
      },
      "source": [
        "min([1, 2, 3, 4])"
      ],
      "execution_count": null,
      "outputs": []
    }
  ]
}